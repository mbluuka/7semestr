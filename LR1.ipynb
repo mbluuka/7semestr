{
 "cells": [
  {
   "cell_type": "code",
   "execution_count": 73,
   "id": "67de2661-b292-407e-be40-d48c2acea578",
   "metadata": {},
   "outputs": [
    {
     "name": "stdout",
     "output_type": "stream",
     "text": [
      "Collecting windrose\n",
      "  Downloading windrose-1.7.0-py3-none-any.whl (11 kB)\n",
      "Collecting openpyxl\n",
      "  Downloading openpyxl-3.0.10-py2.py3-none-any.whl (242 kB)\n",
      "     ------------------------------------ 242.1/242.1 kB 424.0 kB/s eta 0:00:00\n",
      "Requirement already satisfied: matplotlib>=3 in c:\\users\\1\\appdata\\local\\programs\\python\\python310\\lib\\site-packages (from windrose) (3.5.3)\n",
      "Requirement already satisfied: numpy>=1.19 in c:\\users\\1\\appdata\\local\\programs\\python\\python310\\lib\\site-packages (from windrose) (1.23.2)\n",
      "Collecting et-xmlfile\n",
      "  Downloading et_xmlfile-1.1.0-py3-none-any.whl (4.7 kB)\n",
      "Requirement already satisfied: pillow>=6.2.0 in c:\\users\\1\\appdata\\local\\programs\\python\\python310\\lib\\site-packages (from matplotlib>=3->windrose) (9.2.0)\n",
      "Requirement already satisfied: cycler>=0.10 in c:\\users\\1\\appdata\\local\\programs\\python\\python310\\lib\\site-packages (from matplotlib>=3->windrose) (0.11.0)\n",
      "Requirement already satisfied: packaging>=20.0 in c:\\users\\1\\appdata\\local\\programs\\python\\python310\\lib\\site-packages (from matplotlib>=3->windrose) (21.3)\n",
      "Requirement already satisfied: kiwisolver>=1.0.1 in c:\\users\\1\\appdata\\local\\programs\\python\\python310\\lib\\site-packages (from matplotlib>=3->windrose) (1.4.4)\n",
      "Requirement already satisfied: fonttools>=4.22.0 in c:\\users\\1\\appdata\\local\\programs\\python\\python310\\lib\\site-packages (from matplotlib>=3->windrose) (4.37.1)\n",
      "Requirement already satisfied: pyparsing>=2.2.1 in c:\\users\\1\\appdata\\local\\programs\\python\\python310\\lib\\site-packages (from matplotlib>=3->windrose) (3.0.9)\n",
      "Requirement already satisfied: python-dateutil>=2.7 in c:\\users\\1\\appdata\\local\\programs\\python\\python310\\lib\\site-packages (from matplotlib>=3->windrose) (2.8.2)\n",
      "Requirement already satisfied: six>=1.5 in c:\\users\\1\\appdata\\local\\programs\\python\\python310\\lib\\site-packages (from python-dateutil>=2.7->matplotlib>=3->windrose) (1.16.0)\n",
      "Installing collected packages: et-xmlfile, openpyxl, windrose\n",
      "Successfully installed et-xmlfile-1.1.0 openpyxl-3.0.10 windrose-1.7.0\n",
      "\n",
      "[notice] A new release of pip available: 22.1.2 -> 22.2.2\n",
      "[notice] To update, run: python.exe -m pip install --upgrade pip\n"
     ]
    }
   ],
   "source": [
    "#!pip install matplotlib\n",
    "#!pip install windrose openpyxl"
   ]
  },
  {
   "cell_type": "code",
   "execution_count": 2,
   "id": "1cecfb7b-1c3c-41a7-9c77-fa9eba6db2e2",
   "metadata": {},
   "outputs": [],
   "source": [
    "import numpy as np\n",
    "import pandas as pd\n",
    "from matplotlib import pyplot as plt\n",
    "import matplotlib.cm as cm\n",
    "from math import pi"
   ]
  },
  {
   "cell_type": "code",
   "execution_count": 3,
   "id": "abe078e5-869c-4408-9e56-613c70eb31a1",
   "metadata": {},
   "outputs": [],
   "source": [
    "from windrose import WindroseAxes"
   ]
  },
  {
   "cell_type": "markdown",
   "id": "c351564b-fc53-49f4-908d-8cad8ff4b6ea",
   "metadata": {
    "tags": []
   },
   "source": [
    "### Считывание данных из файла\n"
   ]
  },
  {
   "cell_type": "markdown",
   "id": "012e8531-2b57-46a7-9510-84926bca32e9",
   "metadata": {
    "tags": []
   },
   "source": [
    "### Что делаль\n",
    "Во время анализа, я выделил несколько столбцов, которые мог бы убрать из глобальной выборке. Например столбец ff10 содержит 100 значений из 3000 строк."
   ]
  },
  {
   "cell_type": "code",
   "execution_count": 4,
   "id": "7d528e3e-610a-4f38-8da0-f16c048f51f8",
   "metadata": {},
   "outputs": [],
   "source": [
    "Weather_csv = pd.read_csv('weather_vladimir.csv', delimiter=',')"
   ]
  },
  {
   "cell_type": "code",
   "execution_count": 5,
   "id": "beee269f-4a4f-4c56-9241-756d40bfb503",
   "metadata": {},
   "outputs": [
    {
     "data": {
      "text/html": [
       "<div>\n",
       "<style scoped>\n",
       "    .dataframe tbody tr th:only-of-type {\n",
       "        vertical-align: middle;\n",
       "    }\n",
       "\n",
       "    .dataframe tbody tr th {\n",
       "        vertical-align: top;\n",
       "    }\n",
       "\n",
       "    .dataframe thead th {\n",
       "        text-align: right;\n",
       "    }\n",
       "</style>\n",
       "<table border=\"1\" class=\"dataframe\">\n",
       "  <thead>\n",
       "    <tr style=\"text-align: right;\">\n",
       "      <th></th>\n",
       "      <th>Date</th>\n",
       "      <th>T</th>\n",
       "      <th>Po</th>\n",
       "      <th>P</th>\n",
       "      <th>Pa</th>\n",
       "      <th>U</th>\n",
       "      <th>DD</th>\n",
       "      <th>Ff</th>\n",
       "      <th>N</th>\n",
       "      <th>WW</th>\n",
       "      <th>...</th>\n",
       "      <th>Cm</th>\n",
       "      <th>Ch</th>\n",
       "      <th>VV</th>\n",
       "      <th>Td</th>\n",
       "      <th>RRR</th>\n",
       "      <th>tR</th>\n",
       "      <th>E</th>\n",
       "      <th>Tg</th>\n",
       "      <th>E'</th>\n",
       "      <th>sss</th>\n",
       "    </tr>\n",
       "  </thead>\n",
       "  <tbody>\n",
       "    <tr>\n",
       "      <th>0</th>\n",
       "      <td>31.12.2021 21:00</td>\n",
       "      <td>-5.7</td>\n",
       "      <td>738.1</td>\n",
       "      <td>754.5</td>\n",
       "      <td>-2.1</td>\n",
       "      <td>93</td>\n",
       "      <td>Ветер, дующий с юга</td>\n",
       "      <td>3</td>\n",
       "      <td>100%.</td>\n",
       "      <td>Снег непрерывный слабый в срок наблюдения.</td>\n",
       "      <td>...</td>\n",
       "      <td>Высокослоистые непросвечивающие или слоисто-до...</td>\n",
       "      <td>NaN</td>\n",
       "      <td>4.0</td>\n",
       "      <td>-6.7</td>\n",
       "      <td>NaN</td>\n",
       "      <td>NaN</td>\n",
       "      <td>NaN</td>\n",
       "      <td>NaN</td>\n",
       "      <td>NaN</td>\n",
       "      <td>NaN</td>\n",
       "    </tr>\n",
       "    <tr>\n",
       "      <th>1</th>\n",
       "      <td>31.12.2021 18:00</td>\n",
       "      <td>-6.3</td>\n",
       "      <td>740.2</td>\n",
       "      <td>756.5</td>\n",
       "      <td>-1.2</td>\n",
       "      <td>93</td>\n",
       "      <td>Ветер, дующий с юга</td>\n",
       "      <td>2</td>\n",
       "      <td>100%.</td>\n",
       "      <td>Снег непрерывный слабый в срок наблюдения.  Ди...</td>\n",
       "      <td>...</td>\n",
       "      <td>Высокослоистые непросвечивающие или слоисто-до...</td>\n",
       "      <td>NaN</td>\n",
       "      <td>2.0</td>\n",
       "      <td>-7.3</td>\n",
       "      <td>Следы осадков</td>\n",
       "      <td>12.0</td>\n",
       "      <td>NaN</td>\n",
       "      <td>NaN</td>\n",
       "      <td>NaN</td>\n",
       "      <td>NaN</td>\n",
       "    </tr>\n",
       "    <tr>\n",
       "      <th>2</th>\n",
       "      <td>31.12.2021 15:00</td>\n",
       "      <td>-6.8</td>\n",
       "      <td>741.4</td>\n",
       "      <td>757.9</td>\n",
       "      <td>-1.5</td>\n",
       "      <td>92</td>\n",
       "      <td>Ветер, дующий с юга</td>\n",
       "      <td>1</td>\n",
       "      <td>100%.</td>\n",
       "      <td>Морось (незамерзающая) или снежные зерна нелив...</td>\n",
       "      <td>...</td>\n",
       "      <td>NaN</td>\n",
       "      <td>NaN</td>\n",
       "      <td>2.0</td>\n",
       "      <td>-7.9</td>\n",
       "      <td>NaN</td>\n",
       "      <td>NaN</td>\n",
       "      <td>NaN</td>\n",
       "      <td>NaN</td>\n",
       "      <td>NaN</td>\n",
       "      <td>NaN</td>\n",
       "    </tr>\n",
       "    <tr>\n",
       "      <th>3</th>\n",
       "      <td>31.12.2021 12:00</td>\n",
       "      <td>-7.4</td>\n",
       "      <td>742.9</td>\n",
       "      <td>759.5</td>\n",
       "      <td>-1.2</td>\n",
       "      <td>91</td>\n",
       "      <td>Ветер, дующий с юга</td>\n",
       "      <td>1</td>\n",
       "      <td>100%.</td>\n",
       "      <td>Морось замерзающая слабая.  Диаметр смешанного...</td>\n",
       "      <td>...</td>\n",
       "      <td>NaN</td>\n",
       "      <td>NaN</td>\n",
       "      <td>4.0</td>\n",
       "      <td>-8.6</td>\n",
       "      <td>NaN</td>\n",
       "      <td>NaN</td>\n",
       "      <td>NaN</td>\n",
       "      <td>NaN</td>\n",
       "      <td>NaN</td>\n",
       "      <td>NaN</td>\n",
       "    </tr>\n",
       "    <tr>\n",
       "      <th>4</th>\n",
       "      <td>31.12.2021 09:00</td>\n",
       "      <td>-8.3</td>\n",
       "      <td>744.1</td>\n",
       "      <td>760.7</td>\n",
       "      <td>-0.7</td>\n",
       "      <td>90</td>\n",
       "      <td>Ветер, дующий с юга</td>\n",
       "      <td>1</td>\n",
       "      <td>100%.</td>\n",
       "      <td>Дымка.</td>\n",
       "      <td>...</td>\n",
       "      <td>NaN</td>\n",
       "      <td>NaN</td>\n",
       "      <td>4.0</td>\n",
       "      <td>-9.6</td>\n",
       "      <td>NaN</td>\n",
       "      <td>NaN</td>\n",
       "      <td>NaN</td>\n",
       "      <td>NaN</td>\n",
       "      <td>NaN</td>\n",
       "      <td>NaN</td>\n",
       "    </tr>\n",
       "    <tr>\n",
       "      <th>...</th>\n",
       "      <td>...</td>\n",
       "      <td>...</td>\n",
       "      <td>...</td>\n",
       "      <td>...</td>\n",
       "      <td>...</td>\n",
       "      <td>...</td>\n",
       "      <td>...</td>\n",
       "      <td>...</td>\n",
       "      <td>...</td>\n",
       "      <td>...</td>\n",
       "      <td>...</td>\n",
       "      <td>...</td>\n",
       "      <td>...</td>\n",
       "      <td>...</td>\n",
       "      <td>...</td>\n",
       "      <td>...</td>\n",
       "      <td>...</td>\n",
       "      <td>...</td>\n",
       "      <td>...</td>\n",
       "      <td>...</td>\n",
       "      <td>...</td>\n",
       "    </tr>\n",
       "    <tr>\n",
       "      <th>2913</th>\n",
       "      <td>01.01.2021 12:00</td>\n",
       "      <td>-1.6</td>\n",
       "      <td>749.3</td>\n",
       "      <td>765.6</td>\n",
       "      <td>-0.2</td>\n",
       "      <td>96</td>\n",
       "      <td>Ветер, дующий с юго-юго-востока</td>\n",
       "      <td>3</td>\n",
       "      <td>100%.</td>\n",
       "      <td>Дымка.</td>\n",
       "      <td>...</td>\n",
       "      <td>NaN</td>\n",
       "      <td>NaN</td>\n",
       "      <td>4.0</td>\n",
       "      <td>-2.2</td>\n",
       "      <td>NaN</td>\n",
       "      <td>NaN</td>\n",
       "      <td>NaN</td>\n",
       "      <td>NaN</td>\n",
       "      <td>NaN</td>\n",
       "      <td>NaN</td>\n",
       "    </tr>\n",
       "    <tr>\n",
       "      <th>2914</th>\n",
       "      <td>01.01.2021 09:00</td>\n",
       "      <td>-1.9</td>\n",
       "      <td>749.5</td>\n",
       "      <td>765.8</td>\n",
       "      <td>0.1</td>\n",
       "      <td>96</td>\n",
       "      <td>Ветер, дующий с юга</td>\n",
       "      <td>2</td>\n",
       "      <td>100%.</td>\n",
       "      <td>Дымка.</td>\n",
       "      <td>...</td>\n",
       "      <td>NaN</td>\n",
       "      <td>NaN</td>\n",
       "      <td>2.0</td>\n",
       "      <td>-2.4</td>\n",
       "      <td>NaN</td>\n",
       "      <td>NaN</td>\n",
       "      <td>NaN</td>\n",
       "      <td>NaN</td>\n",
       "      <td>NaN</td>\n",
       "      <td>NaN</td>\n",
       "    </tr>\n",
       "    <tr>\n",
       "      <th>2915</th>\n",
       "      <td>01.01.2021 06:00</td>\n",
       "      <td>-1.9</td>\n",
       "      <td>749.4</td>\n",
       "      <td>765.7</td>\n",
       "      <td>-0.4</td>\n",
       "      <td>96</td>\n",
       "      <td>Ветер, дующий с юга</td>\n",
       "      <td>3</td>\n",
       "      <td>100%.</td>\n",
       "      <td>Дымка.</td>\n",
       "      <td>...</td>\n",
       "      <td>NaN</td>\n",
       "      <td>NaN</td>\n",
       "      <td>2.0</td>\n",
       "      <td>-2.4</td>\n",
       "      <td>Осадков нет</td>\n",
       "      <td>12.0</td>\n",
       "      <td>NaN</td>\n",
       "      <td>NaN</td>\n",
       "      <td>Ровный слой слежавшегося или мокрого снега пок...</td>\n",
       "      <td>7</td>\n",
       "    </tr>\n",
       "    <tr>\n",
       "      <th>2916</th>\n",
       "      <td>01.01.2021 03:00</td>\n",
       "      <td>-2.4</td>\n",
       "      <td>749.8</td>\n",
       "      <td>766.1</td>\n",
       "      <td>-0.3</td>\n",
       "      <td>96</td>\n",
       "      <td>Ветер, дующий с юго-юго-востока</td>\n",
       "      <td>2</td>\n",
       "      <td>100%.</td>\n",
       "      <td>Дымка.</td>\n",
       "      <td>...</td>\n",
       "      <td>NaN</td>\n",
       "      <td>NaN</td>\n",
       "      <td>2.0</td>\n",
       "      <td>-2.9</td>\n",
       "      <td>NaN</td>\n",
       "      <td>NaN</td>\n",
       "      <td>NaN</td>\n",
       "      <td>NaN</td>\n",
       "      <td>NaN</td>\n",
       "      <td>NaN</td>\n",
       "    </tr>\n",
       "    <tr>\n",
       "      <th>2917</th>\n",
       "      <td>01.01.2021 00:00</td>\n",
       "      <td>-3.7</td>\n",
       "      <td>750.1</td>\n",
       "      <td>766.5</td>\n",
       "      <td>0.4</td>\n",
       "      <td>95</td>\n",
       "      <td>Ветер, дующий с юга</td>\n",
       "      <td>2</td>\n",
       "      <td>100%.</td>\n",
       "      <td>Дымка.</td>\n",
       "      <td>...</td>\n",
       "      <td>NaN</td>\n",
       "      <td>NaN</td>\n",
       "      <td>4.0</td>\n",
       "      <td>-4.4</td>\n",
       "      <td>NaN</td>\n",
       "      <td>NaN</td>\n",
       "      <td>NaN</td>\n",
       "      <td>NaN</td>\n",
       "      <td>NaN</td>\n",
       "      <td>NaN</td>\n",
       "    </tr>\n",
       "  </tbody>\n",
       "</table>\n",
       "<p>2918 rows × 27 columns</p>\n",
       "</div>"
      ],
      "text/plain": [
       "                  Date    T     Po      P   Pa   U  \\\n",
       "0     31.12.2021 21:00 -5.7  738.1  754.5 -2.1  93   \n",
       "1     31.12.2021 18:00 -6.3  740.2  756.5 -1.2  93   \n",
       "2     31.12.2021 15:00 -6.8  741.4  757.9 -1.5  92   \n",
       "3     31.12.2021 12:00 -7.4  742.9  759.5 -1.2  91   \n",
       "4     31.12.2021 09:00 -8.3  744.1  760.7 -0.7  90   \n",
       "...                ...  ...    ...    ...  ...  ..   \n",
       "2913  01.01.2021 12:00 -1.6  749.3  765.6 -0.2  96   \n",
       "2914  01.01.2021 09:00 -1.9  749.5  765.8  0.1  96   \n",
       "2915  01.01.2021 06:00 -1.9  749.4  765.7 -0.4  96   \n",
       "2916  01.01.2021 03:00 -2.4  749.8  766.1 -0.3  96   \n",
       "2917  01.01.2021 00:00 -3.7  750.1  766.5  0.4  95   \n",
       "\n",
       "                                   DD  Ff      N  \\\n",
       "0                 Ветер, дующий с юга   3  100%.   \n",
       "1                 Ветер, дующий с юга   2  100%.   \n",
       "2                 Ветер, дующий с юга   1  100%.   \n",
       "3                 Ветер, дующий с юга   1  100%.   \n",
       "4                 Ветер, дующий с юга   1  100%.   \n",
       "...                               ...  ..    ...   \n",
       "2913  Ветер, дующий с юго-юго-востока   3  100%.   \n",
       "2914              Ветер, дующий с юга   2  100%.   \n",
       "2915              Ветер, дующий с юга   3  100%.   \n",
       "2916  Ветер, дующий с юго-юго-востока   2  100%.   \n",
       "2917              Ветер, дующий с юга   2  100%.   \n",
       "\n",
       "                                                     WW  ...  \\\n",
       "0           Снег непрерывный слабый в срок наблюдения.   ...   \n",
       "1     Снег непрерывный слабый в срок наблюдения.  Ди...  ...   \n",
       "2     Морось (незамерзающая) или снежные зерна нелив...  ...   \n",
       "3     Морось замерзающая слабая.  Диаметр смешанного...  ...   \n",
       "4                                               Дымка.   ...   \n",
       "...                                                 ...  ...   \n",
       "2913                                            Дымка.   ...   \n",
       "2914                                            Дымка.   ...   \n",
       "2915                                            Дымка.   ...   \n",
       "2916                                            Дымка.   ...   \n",
       "2917                                            Дымка.   ...   \n",
       "\n",
       "                                                     Cm   Ch   VV   Td  \\\n",
       "0     Высокослоистые непросвечивающие или слоисто-до...  NaN  4.0 -6.7   \n",
       "1     Высокослоистые непросвечивающие или слоисто-до...  NaN  2.0 -7.3   \n",
       "2                                                   NaN  NaN  2.0 -7.9   \n",
       "3                                                   NaN  NaN  4.0 -8.6   \n",
       "4                                                   NaN  NaN  4.0 -9.6   \n",
       "...                                                 ...  ...  ...  ...   \n",
       "2913                                                NaN  NaN  4.0 -2.2   \n",
       "2914                                                NaN  NaN  2.0 -2.4   \n",
       "2915                                                NaN  NaN  2.0 -2.4   \n",
       "2916                                                NaN  NaN  2.0 -2.9   \n",
       "2917                                                NaN  NaN  4.0 -4.4   \n",
       "\n",
       "                RRR    tR    E  Tg  \\\n",
       "0               NaN   NaN  NaN NaN   \n",
       "1     Следы осадков  12.0  NaN NaN   \n",
       "2               NaN   NaN  NaN NaN   \n",
       "3               NaN   NaN  NaN NaN   \n",
       "4               NaN   NaN  NaN NaN   \n",
       "...             ...   ...  ...  ..   \n",
       "2913            NaN   NaN  NaN NaN   \n",
       "2914            NaN   NaN  NaN NaN   \n",
       "2915    Осадков нет  12.0  NaN NaN   \n",
       "2916            NaN   NaN  NaN NaN   \n",
       "2917            NaN   NaN  NaN NaN   \n",
       "\n",
       "                                                     E'  sss  \n",
       "0                                                   NaN  NaN  \n",
       "1                                                   NaN  NaN  \n",
       "2                                                   NaN  NaN  \n",
       "3                                                   NaN  NaN  \n",
       "4                                                   NaN  NaN  \n",
       "...                                                 ...  ...  \n",
       "2913                                                NaN  NaN  \n",
       "2914                                                NaN  NaN  \n",
       "2915  Ровный слой слежавшегося или мокрого снега пок...    7  \n",
       "2916                                                NaN  NaN  \n",
       "2917                                                NaN  NaN  \n",
       "\n",
       "[2918 rows x 27 columns]"
      ]
     },
     "execution_count": 5,
     "metadata": {},
     "output_type": "execute_result"
    }
   ],
   "source": [
    "Weather_csv"
   ]
  },
  {
   "cell_type": "markdown",
   "id": "e38398cb-a765-407e-aced-640e74614de6",
   "metadata": {
    "tags": []
   },
   "source": [
    "# 3 пункт лабораторной работы\n",
    "## Построение розы ветров\n",
    "1. Создал резеврный файл с данными, в котором изменил надписи в столбце DD на международный формат \n",
    "2. Дальше смотрел разные источники с описанием построения розы ветров"
   ]
  },
  {
   "cell_type": "code",
   "execution_count": 6,
   "id": "6377e5ea-6852-42c3-88e2-1f5c881591bf",
   "metadata": {},
   "outputs": [
    {
     "data": {
      "text/html": [
       "<div>\n",
       "<style scoped>\n",
       "    .dataframe tbody tr th:only-of-type {\n",
       "        vertical-align: middle;\n",
       "    }\n",
       "\n",
       "    .dataframe tbody tr th {\n",
       "        vertical-align: top;\n",
       "    }\n",
       "\n",
       "    .dataframe thead th {\n",
       "        text-align: right;\n",
       "    }\n",
       "</style>\n",
       "<table border=\"1\" class=\"dataframe\">\n",
       "  <thead>\n",
       "    <tr style=\"text-align: right;\">\n",
       "      <th></th>\n",
       "      <th>DD</th>\n",
       "      <th>Ff</th>\n",
       "      <th>Dir</th>\n",
       "    </tr>\n",
       "  </thead>\n",
       "  <tbody>\n",
       "    <tr>\n",
       "      <th>0</th>\n",
       "      <td>S</td>\n",
       "      <td>3</td>\n",
       "      <td>180.0</td>\n",
       "    </tr>\n",
       "    <tr>\n",
       "      <th>1</th>\n",
       "      <td>S</td>\n",
       "      <td>2</td>\n",
       "      <td>180.0</td>\n",
       "    </tr>\n",
       "    <tr>\n",
       "      <th>2</th>\n",
       "      <td>S</td>\n",
       "      <td>1</td>\n",
       "      <td>180.0</td>\n",
       "    </tr>\n",
       "    <tr>\n",
       "      <th>3</th>\n",
       "      <td>S</td>\n",
       "      <td>1</td>\n",
       "      <td>180.0</td>\n",
       "    </tr>\n",
       "    <tr>\n",
       "      <th>4</th>\n",
       "      <td>S</td>\n",
       "      <td>1</td>\n",
       "      <td>180.0</td>\n",
       "    </tr>\n",
       "    <tr>\n",
       "      <th>...</th>\n",
       "      <td>...</td>\n",
       "      <td>...</td>\n",
       "      <td>...</td>\n",
       "    </tr>\n",
       "    <tr>\n",
       "      <th>2913</th>\n",
       "      <td>SSE</td>\n",
       "      <td>3</td>\n",
       "      <td>157.5</td>\n",
       "    </tr>\n",
       "    <tr>\n",
       "      <th>2914</th>\n",
       "      <td>S</td>\n",
       "      <td>2</td>\n",
       "      <td>180.0</td>\n",
       "    </tr>\n",
       "    <tr>\n",
       "      <th>2915</th>\n",
       "      <td>S</td>\n",
       "      <td>3</td>\n",
       "      <td>180.0</td>\n",
       "    </tr>\n",
       "    <tr>\n",
       "      <th>2916</th>\n",
       "      <td>SSE</td>\n",
       "      <td>2</td>\n",
       "      <td>157.5</td>\n",
       "    </tr>\n",
       "    <tr>\n",
       "      <th>2917</th>\n",
       "      <td>S</td>\n",
       "      <td>2</td>\n",
       "      <td>180.0</td>\n",
       "    </tr>\n",
       "  </tbody>\n",
       "</table>\n",
       "<p>2918 rows × 3 columns</p>\n",
       "</div>"
      ],
      "text/plain": [
       "       DD  Ff    Dir\n",
       "0       S   3  180.0\n",
       "1       S   2  180.0\n",
       "2       S   1  180.0\n",
       "3       S   1  180.0\n",
       "4       S   1  180.0\n",
       "...   ...  ..    ...\n",
       "2913  SSE   3  157.5\n",
       "2914    S   2  180.0\n",
       "2915    S   3  180.0\n",
       "2916  SSE   2  157.5\n",
       "2917    S   2  180.0\n",
       "\n",
       "[2918 rows x 3 columns]"
      ]
     },
     "execution_count": 6,
     "metadata": {},
     "output_type": "execute_result"
    }
   ],
   "source": [
    "df_test = pd.read_csv(\"WV_test.csv\", delimiter = ',', usecols = [\"DD\", \"Ff\"])\n",
    "Ff_list = df_test[\"DD\"].tolist()\n",
    "degrees = []\n",
    "for i in Ff_list:\n",
    "    if i == \"N\":\n",
    "        degrees.append(0)\n",
    "    elif i == \"NNE\":\n",
    "        degrees.append(22.5)\n",
    "    elif i == \"NE\":\n",
    "        degrees.append(45)\n",
    "    elif i == \"ENE\":\n",
    "        degrees.append(67.5)\n",
    "    elif i == \"E\":\n",
    "        degrees.append(90)\n",
    "    elif i == \"ESE\":\n",
    "        degrees.append(112.5)\n",
    "    elif i == \"SE\":\n",
    "        degrees.append(135)\n",
    "    elif i == \"SSE\":\n",
    "        degrees.append(157.5)\n",
    "    elif i == \"S\":\n",
    "        degrees.append(180)\n",
    "    elif i == \"SSW\":\n",
    "        degrees.append(202.5)\n",
    "    elif i == \"SW\":\n",
    "        degrees.append(225)\n",
    "    elif i == \"WSW\":\n",
    "        degrees.append(247.5)\n",
    "    elif i == \"W\":\n",
    "        degrees.append(270)\n",
    "    elif i == \"WNW\":\n",
    "        degrees.append(292.5)\n",
    "    elif i == \"NW\":\n",
    "        degrees.append(315)\n",
    "    else:\n",
    "        degrees.append(337.5)\n",
    "\n",
    "df_test[\"Dir\"] = degrees\n",
    "df_test"
   ]
  },
  {
   "cell_type": "markdown",
   "id": "f02d8600-8679-4fbb-886c-1fe4962d8785",
   "metadata": {},
   "source": [
    "## Проверка корреляции данных\n"
   ]
  },
  {
   "cell_type": "code",
   "execution_count": 7,
   "id": "0fe661e7-4ebd-4ffb-94b4-e0d596417dca",
   "metadata": {},
   "outputs": [
    {
     "data": {
      "text/plain": [
       "<AxesSubplot:xlabel='x', ylabel='y'>"
      ]
     },
     "execution_count": 7,
     "metadata": {},
     "output_type": "execute_result"
    },
    {
     "data": {
      "image/png": "[encoded data removed]",
      "text/plain": [
       "<Figure size 640x640 with 1 Axes>"
      ]
     },
     "metadata": {
      "needs_background": "light"
     },
     "output_type": "display_data"
    }
   ],
   "source": [
    "df_test['x'] = df_test['Ff'] * np.sin(df_test['Dir'] * pi / 180.0)\n",
    "df_test['y'] = df_test['Ff'] * np.cos(df_test['Dir'] * pi / 180.0)\n",
    "fig, ax = plt.subplots(figsize=(8, 8), dpi = 80)\n",
    "x0, x1 = ax.get_xlim()\n",
    "y0, y1 = ax.get_ylim()\n",
    "ax.set_aspect('equal')\n",
    "df_test.plot(kind='scatter', x = 'x', y = 'y', alpha = 0.35, ax = ax)"
   ]
  },
  {
   "cell_type": "markdown",
   "id": "9cbff856-aacd-4332-9712-11addacf6d57",
   "metadata": {},
   "source": [
    "## Построение розы ветров в разных режимах"
   ]
  },
  {
   "cell_type": "code",
   "execution_count": 8,
   "id": "59b0db8e-dbc6-4d78-9157-66608d50a0f5",
   "metadata": {},
   "outputs": [
    {
     "data": {
      "text/plain": [
       "<matplotlib.legend.Legend at 0x20cbdc28ac0>"
      ]
     },
     "execution_count": 8,
     "metadata": {},
     "output_type": "execute_result"
    },
    {
     "data": {
      "image/png": "[encoded data removed]",
      "text/plain": [
       "<Figure size 640x640 with 1 Axes>"
      ]
     },
     "metadata": {},
     "output_type": "display_data"
    }
   ],
   "source": [
    "ax = WindroseAxes.from_ax()\n",
    "ax.bar(df_test.Dir, df_test.Ff, normed=True, opening=0.8, edgecolor = 'white')\n",
    "ax.set_legend()"
   ]
  },
  {
   "cell_type": "code",
   "execution_count": 9,
   "id": "d5597674-5d01-4664-b6af-3fd7f7b62d7b",
   "metadata": {},
   "outputs": [
    {
     "data": {
      "text/plain": [
       "<matplotlib.legend.Legend at 0x20cbdd0df30>"
      ]
     },
     "execution_count": 9,
     "metadata": {},
     "output_type": "execute_result"
    },
    {
     "data": {
      "image/png": "[encoded data removed]",
      "text/plain": [
       "<Figure size 640x640 with 1 Axes>"
      ]
     },
     "metadata": {},
     "output_type": "display_data"
    }
   ],
   "source": [
    "ax = WindroseAxes.from_ax()\n",
    "ax.contourf(df_test.Dir, df_test.Ff, bins=np.arange(0, 8, 1), cmap = cm.hot)\n",
    "ax.set_legend()"
   ]
  },
  {
   "cell_type": "markdown",
   "id": "f2e86877-173a-4d93-8c3c-041913150a6e",
   "metadata": {},
   "source": [
    "# 4 пункт лабораторной работы:\n",
    "Выбранный параметр - T (Температура воздуха)\n",
    "1. максимальное, минимальное значения;\n",
    "2. среднее значение;\n",
    "3. медиану;\n",
    "4. стандартное отклонение;\n",
    "5. дисперсию;\n",
    "6. моду;\n",
    "7. 10 и 90 перцентиль;\n",
    "8. 1, 2, 3 квартили"
   ]
  },
  {
   "cell_type": "code",
   "execution_count": 10,
   "id": "6be4cfa2-cccd-4a09-a6dd-3548399d3683",
   "metadata": {},
   "outputs": [],
   "source": [
    "dft = pd.read_csv('weather_vladimir.csv', delimiter=',', usecols = [\"T\"]) # Выбираем параметр"
   ]
  },
  {
   "cell_type": "markdown",
   "id": "77c43473-e0ae-4ec0-b123-6a8d65e8a63e",
   "metadata": {},
   "source": [
    "#### Вычисление максимального и минимального значений"
   ]
  },
  {
   "cell_type": "code",
   "execution_count": 11,
   "id": "cfd885c8-3425-458b-ac17-bfeacb6ceb69",
   "metadata": {},
   "outputs": [
    {
     "data": {
      "text/plain": [
       "T    35.0\n",
       "dtype: float64"
      ]
     },
     "execution_count": 11,
     "metadata": {},
     "output_type": "execute_result"
    }
   ],
   "source": [
    "dft.max()"
   ]
  },
  {
   "cell_type": "code",
   "execution_count": 12,
   "id": "c7c51727-321b-46bf-a2d2-ef7b3780247b",
   "metadata": {},
   "outputs": [
    {
     "data": {
      "text/plain": [
       "T   -30.4\n",
       "dtype: float64"
      ]
     },
     "execution_count": 12,
     "metadata": {},
     "output_type": "execute_result"
    }
   ],
   "source": [
    "dft.min()"
   ]
  },
  {
   "cell_type": "raw",
   "id": "5a0d5a09-b838-40c3-b5fe-e3e612824b42",
   "metadata": {},
   "source": []
  },
  {
   "cell_type": "markdown",
   "id": "08c8cf83-656b-4ceb-967c-7963fde53490",
   "metadata": {},
   "source": [
    "#### Вычисление среднего значения\n",
    "Порядок вычисления:\n",
    "1. Суммируем все элементы списка\n",
    "2. Делим полученное значение на кол-во элементов"
   ]
  },
  {
   "cell_type": "code",
   "execution_count": 13,
   "id": "92d808cf-0e57-42f7-bc08-6fb507b021de",
   "metadata": {},
   "outputs": [
    {
     "data": {
      "text/plain": [
       "5.276525"
      ]
     },
     "execution_count": 13,
     "metadata": {},
     "output_type": "execute_result"
    }
   ],
   "source": [
    "temp_list = dft.values.tolist()\n",
    "all_temp = 0\n",
    "for temp in temp_list:\n",
    "    all_temp += temp[0]\n",
    "res = all_temp / len(temp_list)\n",
    "round(res, 6)"
   ]
  },
  {
   "cell_type": "code",
   "execution_count": 14,
   "id": "a1294d88-b4ea-4303-8bce-41fd8621ab44",
   "metadata": {},
   "outputs": [
    {
     "data": {
      "text/plain": [
       "T    5.276525\n",
       "dtype: float64"
      ]
     },
     "execution_count": 14,
     "metadata": {},
     "output_type": "execute_result"
    }
   ],
   "source": [
    "dft.mean()"
   ]
  },
  {
   "cell_type": "code",
   "execution_count": null,
   "id": "4698b789-bb58-4aa5-a1ad-a702d8b2e06f",
   "metadata": {},
   "outputs": [],
   "source": []
  },
  {
   "cell_type": "markdown",
   "id": "5399414c-db2f-49e0-b836-e1bf71b5e624",
   "metadata": {},
   "source": [
    "#### Вычиcление медианы\n",
    "Порядок выполнения:\n",
    "1. Отсортируем список\n",
    "2. Найдём серединный элемент"
   ]
  },
  {
   "cell_type": "code",
   "execution_count": 15,
   "id": "af6cbef7-7076-42df-b789-8d4d2be47d2e",
   "metadata": {},
   "outputs": [
    {
     "data": {
      "text/plain": [
       "[5.5]"
      ]
     },
     "execution_count": 15,
     "metadata": {},
     "output_type": "execute_result"
    }
   ],
   "source": [
    "med_temp_list = temp_list.copy()\n",
    "med_temp_list.sort()\n",
    "med_temp_list[int(len(med_temp_list)/2)]"
   ]
  },
  {
   "cell_type": "code",
   "execution_count": 16,
   "id": "9566b22f-b3a0-41b5-aa01-eaa106bec51b",
   "metadata": {},
   "outputs": [
    {
     "data": {
      "text/plain": [
       "T    5.5\n",
       "dtype: float64"
      ]
     },
     "execution_count": 16,
     "metadata": {},
     "output_type": "execute_result"
    }
   ],
   "source": [
    "dft.median()"
   ]
  },
  {
   "cell_type": "raw",
   "id": "e08c52ca-572e-4e5b-a36e-e2f24d41a009",
   "metadata": {},
   "source": []
  },
  {
   "cell_type": "markdown",
   "id": "261ed49d-8abb-4b3f-a4de-295fcaa07121",
   "metadata": {
    "tags": []
   },
   "source": [
    "#### Вычисление дисперсии\n",
    "\n",
    "Для вычисления дисперсии нам надо использовать формулу:\n",
    "$$ \\sigma^2 = \\frac{\\sum(x-\\bar{x})^2} {n-1}  $$"
   ]
  },
  {
   "cell_type": "code",
   "execution_count": 17,
   "id": "b6179379-692c-4df1-b141-f6ce5462eb1f",
   "metadata": {},
   "outputs": [
    {
     "data": {
      "text/plain": [
       "165.427879"
      ]
     },
     "execution_count": 17,
     "metadata": {},
     "output_type": "execute_result"
    }
   ],
   "source": [
    "high_sum = 0\n",
    "for temp in temp_list:\n",
    "    prom = (round(temp[0], 1) - res) ** 2\n",
    "    high_sum += prom\n",
    "variance = high_sum/ (len(temp_list) -1)\n",
    "round(variance, 6)"
   ]
  },
  {
   "cell_type": "code",
   "execution_count": 18,
   "id": "b904cf65-ee68-49d3-aa93-a99aeb0f564f",
   "metadata": {},
   "outputs": [
    {
     "data": {
      "text/plain": [
       "T    165.427879\n",
       "dtype: float64"
      ]
     },
     "execution_count": 18,
     "metadata": {},
     "output_type": "execute_result"
    }
   ],
   "source": [
    "dft.var()"
   ]
  },
  {
   "cell_type": "raw",
   "id": "852cc696-a9fd-4e64-b81e-c373b641eb1b",
   "metadata": {},
   "source": []
  },
  {
   "cell_type": "markdown",
   "id": "c2091351-a6b4-44a8-9d3f-77c07610715b",
   "metadata": {},
   "source": [
    "#### Вычисление стандартного отклонения\n",
    "Для вычисления с.о. необходимо вычислить корень дисперсии\n",
    "\n",
    "$$ \\sigma = \\sqrt{\\sigma^2} $$"
   ]
  },
  {
   "cell_type": "code",
   "execution_count": 19,
   "id": "c1e77ad0-6c2d-4918-8247-72a9c9169ac8",
   "metadata": {},
   "outputs": [
    {
     "data": {
      "text/plain": [
       "12.861877"
      ]
     },
     "execution_count": 19,
     "metadata": {},
     "output_type": "execute_result"
    }
   ],
   "source": [
    "round(variance ** 0.5, 6)"
   ]
  },
  {
   "cell_type": "code",
   "execution_count": 20,
   "id": "5e43504d-6abb-4771-82d0-7e63b097d8bc",
   "metadata": {},
   "outputs": [
    {
     "data": {
      "text/plain": [
       "T    12.861877\n",
       "dtype: float64"
      ]
     },
     "execution_count": 20,
     "metadata": {},
     "output_type": "execute_result"
    }
   ],
   "source": [
    "dft.std()"
   ]
  },
  {
   "cell_type": "markdown",
   "id": "2709a06c-ab12-4ff8-9722-5b014d9e873a",
   "metadata": {},
   "source": [
    "#### Вычисление моды\n",
    "Для вычсиления моды нам понадобится:\n",
    "1. Посчитать кол-во повторений элемента в списке\n",
    "2. Найти наиболее повторяющееся значение\n"
   ]
  },
  {
   "cell_type": "code",
   "execution_count": 22,
   "id": "51afd1bd-cbe8-4607-bc36-4b117f441cf9",
   "metadata": {},
   "outputs": [
    {
     "name": "stdout",
     "output_type": "stream",
     "text": [
      "1.2 17\n"
     ]
    }
   ],
   "source": [
    "counts = {}\n",
    "for temp in temp_list:\n",
    "    if temp[0] not in counts:\n",
    "        counts[round(temp[0], 1)] = 1\n",
    "    else:\n",
    "        counts[round(temp[0], 1)] += 1\n",
    "\n",
    "maxim = 0\n",
    "mode_temp = None\n",
    "for k, v in counts.items():\n",
    "    if maxim < v:\n",
    "        maxim = v\n",
    "        mode_temp = k\n",
    "\n",
    "print(mode_temp, maxim)"
   ]
  },
  {
   "cell_type": "code",
   "execution_count": 21,
   "id": "cacc32d5-9db6-4835-8036-2de3b99581d4",
   "metadata": {},
   "outputs": [
    {
     "data": {
      "text/plain": [
       "T    \n",
       " 0.6     17\n",
       " 1.2     17\n",
       " 8.3     17\n",
       "-1.5     16\n",
       "-2.9     15\n",
       "         ..\n",
       "-17.5     1\n",
       "-17.8     1\n",
       "-18.2     1\n",
       "-19.0     1\n",
       " 35.0     1\n",
       "Length: 561, dtype: int64"
      ]
     },
     "execution_count": 21,
     "metadata": {},
     "output_type": "execute_result"
    }
   ],
   "source": [
    "dft.value_counts()"
   ]
  },
  {
   "cell_type": "markdown",
   "id": "ff08d74b-f12e-4211-af81-337b9356e660",
   "metadata": {},
   "source": [
    "#### 10 и 90 перцентили\n",
    "РаПерцентиль вычисляется по формуле:\n",
    "\n",
    "$$ Percentile = \\frac{} {n} $$, \n",
    "где n - общее число значений; "
   ]
  },
  {
   "cell_type": "code",
   "execution_count": 27,
   "id": "0d0bb1e2-08da-4b9e-94ea-74cf92565287",
   "metadata": {},
   "outputs": [
    {
     "data": {
      "text/html": [
       "<div>\n",
       "<style scoped>\n",
       "    .dataframe tbody tr th:only-of-type {\n",
       "        vertical-align: middle;\n",
       "    }\n",
       "\n",
       "    .dataframe tbody tr th {\n",
       "        vertical-align: top;\n",
       "    }\n",
       "\n",
       "    .dataframe thead th {\n",
       "        text-align: right;\n",
       "    }\n",
       "</style>\n",
       "<table border=\"1\" class=\"dataframe\">\n",
       "  <thead>\n",
       "    <tr style=\"text-align: right;\">\n",
       "      <th></th>\n",
       "      <th>T</th>\n",
       "    </tr>\n",
       "  </thead>\n",
       "  <tbody>\n",
       "    <tr>\n",
       "      <th>0.1</th>\n",
       "      <td>-13.6</td>\n",
       "    </tr>\n",
       "    <tr>\n",
       "      <th>0.9</th>\n",
       "      <td>21.7</td>\n",
       "    </tr>\n",
       "  </tbody>\n",
       "</table>\n",
       "</div>"
      ],
      "text/plain": [
       "        T\n",
       "0.1 -13.6\n",
       "0.9  21.7"
      ]
     },
     "execution_count": 27,
     "metadata": {},
     "output_type": "execute_result"
    }
   ],
   "source": [
    "dft.quantile(q = [0.1, 0.9], axis = 0, numeric_only = True)"
   ]
  },
  {
   "cell_type": "markdown",
   "id": "7d2926ea-81ec-42c6-b5f0-2215b0911ff9",
   "metadata": {},
   "source": [
    "#### Квантили"
   ]
  },
  {
   "cell_type": "code",
   "execution_count": 52,
   "id": "1a4b658e-705f-4330-8df7-df17105ea7ec",
   "metadata": {},
   "outputs": [
    {
     "data": {
      "text/html": [
       "<div>\n",
       "<style scoped>\n",
       "    .dataframe tbody tr th:only-of-type {\n",
       "        vertical-align: middle;\n",
       "    }\n",
       "\n",
       "    .dataframe tbody tr th {\n",
       "        vertical-align: top;\n",
       "    }\n",
       "\n",
       "    .dataframe thead th {\n",
       "        text-align: right;\n",
       "    }\n",
       "</style>\n",
       "<table border=\"1\" class=\"dataframe\">\n",
       "  <thead>\n",
       "    <tr style=\"text-align: right;\">\n",
       "      <th></th>\n",
       "      <th>T</th>\n",
       "    </tr>\n",
       "  </thead>\n",
       "  <tbody>\n",
       "    <tr>\n",
       "      <th>0.25</th>\n",
       "      <td>-2.6</td>\n",
       "    </tr>\n",
       "    <tr>\n",
       "      <th>0.50</th>\n",
       "      <td>5.5</td>\n",
       "    </tr>\n",
       "    <tr>\n",
       "      <th>0.75</th>\n",
       "      <td>15.2</td>\n",
       "    </tr>\n",
       "  </tbody>\n",
       "</table>\n",
       "</div>"
      ],
      "text/plain": [
       "         T\n",
       "0.25  -2.6\n",
       "0.50   5.5\n",
       "0.75  15.2"
      ]
     },
     "execution_count": 52,
     "metadata": {},
     "output_type": "execute_result"
    }
   ],
   "source": [
    "dft.quantile(q = [0.25, 0.5, 0.75], axis = 0, numeric_only = True)"
   ]
  },
  {
   "cell_type": "markdown",
   "id": "2f3c33b5-89b5-4d28-8e19-115923e0a6fd",
   "metadata": {},
   "source": [
    "#### Все вместе"
   ]
  },
  {
   "cell_type": "code",
   "execution_count": 53,
   "id": "745f7333-dde6-4e90-a426-7d9dc1a36c06",
   "metadata": {},
   "outputs": [
    {
     "data": {
      "text/html": [
       "<div>\n",
       "<style scoped>\n",
       "    .dataframe tbody tr th:only-of-type {\n",
       "        vertical-align: middle;\n",
       "    }\n",
       "\n",
       "    .dataframe tbody tr th {\n",
       "        vertical-align: top;\n",
       "    }\n",
       "\n",
       "    .dataframe thead th {\n",
       "        text-align: right;\n",
       "    }\n",
       "</style>\n",
       "<table border=\"1\" class=\"dataframe\">\n",
       "  <thead>\n",
       "    <tr style=\"text-align: right;\">\n",
       "      <th></th>\n",
       "      <th>T</th>\n",
       "    </tr>\n",
       "  </thead>\n",
       "  <tbody>\n",
       "    <tr>\n",
       "      <th>count</th>\n",
       "      <td>2918.00</td>\n",
       "    </tr>\n",
       "    <tr>\n",
       "      <th>mean</th>\n",
       "      <td>5.28</td>\n",
       "    </tr>\n",
       "    <tr>\n",
       "      <th>std</th>\n",
       "      <td>12.86</td>\n",
       "    </tr>\n",
       "    <tr>\n",
       "      <th>min</th>\n",
       "      <td>-30.40</td>\n",
       "    </tr>\n",
       "    <tr>\n",
       "      <th>25%</th>\n",
       "      <td>-2.60</td>\n",
       "    </tr>\n",
       "    <tr>\n",
       "      <th>50%</th>\n",
       "      <td>5.50</td>\n",
       "    </tr>\n",
       "    <tr>\n",
       "      <th>75%</th>\n",
       "      <td>15.20</td>\n",
       "    </tr>\n",
       "    <tr>\n",
       "      <th>max</th>\n",
       "      <td>35.00</td>\n",
       "    </tr>\n",
       "  </tbody>\n",
       "</table>\n",
       "</div>"
      ],
      "text/plain": [
       "             T\n",
       "count  2918.00\n",
       "mean      5.28\n",
       "std      12.86\n",
       "min     -30.40\n",
       "25%      -2.60\n",
       "50%       5.50\n",
       "75%      15.20\n",
       "max      35.00"
      ]
     },
     "execution_count": 53,
     "metadata": {},
     "output_type": "execute_result"
    }
   ],
   "source": [
    "dft.describe().round(2)"
   ]
  },
  {
   "cell_type": "markdown",
   "id": "f27c192a-a2ae-47b6-b404-513eed0d3e76",
   "metadata": {},
   "source": [
    "# 5 пункт лабораторной работы \n",
    "Представить гистограмму для каждого месяца по выбранному параметру - Po (атмосферное давление)\n",
    "\n",
    "Разбиение строк по группам: 240 строк - 30 дней; 248 - 31 день"
   ]
  },
  {
   "cell_type": "code",
   "execution_count": null,
   "id": "fa03d896-ad23-4fba-927b-c67a5e1274bd",
   "metadata": {},
   "outputs": [],
   "source": [
    "for i, row in Weather_csv.iterrows():\n",
    "\tprint(f\"Index: {i}\")\n",
    "\tprint(f\"{row}\\n\")"
   ]
  },
  {
   "cell_type": "code",
   "execution_count": 25,
   "id": "c23fa4c6-bf38-4817-9428-5754df952864",
   "metadata": {},
   "outputs": [],
   "source": [
    "dfdh = pd.read_csv('weather_vladimir.csv', delimiter=',', usecols = [\"Date\", \"Po\"])\n",
    "dfpo = pd.read_csv('weather_vladimir.csv', delimiter=',', usecols = [\"Po\"])"
   ]
  },
  {
   "cell_type": "code",
   "execution_count": 271,
   "id": "d7a87961-cfee-4f00-a59d-b003b243aa47",
   "metadata": {},
   "outputs": [
    {
     "data": {
      "text/plain": [
       "247"
      ]
     },
     "execution_count": 271,
     "metadata": {},
     "output_type": "execute_result"
    }
   ],
   "source": [
    "2917 - 2670"
   ]
  },
  {
   "cell_type": "code",
   "execution_count": null,
   "id": "4fbeae92-7f74-4ba1-a9f2-264dbaa71b19",
   "metadata": {},
   "outputs": [],
   "source": []
  },
  {
   "cell_type": "code",
   "execution_count": 34,
   "id": "a3d229df-4d9f-432f-b9b9-7a417c7204f6",
   "metadata": {},
   "outputs": [
    {
     "name": "stdin",
     "output_type": "stream",
     "text": [
      "Введите номер месяца:  2\n"
     ]
    },
    {
     "ename": "ValueError",
     "evalue": "No axis named 2670 for object type DataFrame",
     "output_type": "error",
     "traceback": [
      "\u001b[1;31m---------------------------------------------------------------------------\u001b[0m",
      "\u001b[1;31mKeyError\u001b[0m                                  Traceback (most recent call last)",
      "File \u001b[1;32m~\\AppData\\Local\\Programs\\Python\\Python310\\lib\\site-packages\\pandas\\core\\generic.py:550\u001b[0m, in \u001b[0;36mNDFrame._get_axis_number\u001b[1;34m(cls, axis)\u001b[0m\n\u001b[0;32m    549\u001b[0m \u001b[38;5;28;01mtry\u001b[39;00m:\n\u001b[1;32m--> 550\u001b[0m     \u001b[38;5;28;01mreturn\u001b[39;00m \u001b[38;5;28;43mcls\u001b[39;49m\u001b[38;5;241;43m.\u001b[39;49m\u001b[43m_AXIS_TO_AXIS_NUMBER\u001b[49m\u001b[43m[\u001b[49m\u001b[43maxis\u001b[49m\u001b[43m]\u001b[49m\n\u001b[0;32m    551\u001b[0m \u001b[38;5;28;01mexcept\u001b[39;00m \u001b[38;5;167;01mKeyError\u001b[39;00m:\n",
      "\u001b[1;31mKeyError\u001b[0m: 2670",
      "\nDuring handling of the above exception, another exception occurred:\n",
      "\u001b[1;31mValueError\u001b[0m                                Traceback (most recent call last)",
      "Input \u001b[1;32mIn [34]\u001b[0m, in \u001b[0;36m<cell line: 11>\u001b[1;34m()\u001b[0m\n\u001b[0;32m      5\u001b[0m Po_dict_num \u001b[38;5;241m=\u001b[39m {\u001b[38;5;124m\"\u001b[39m\u001b[38;5;124m1\u001b[39m\u001b[38;5;124m\"\u001b[39m: [\u001b[38;5;241m2670\u001b[39m, \u001b[38;5;241m2917\u001b[39m],\u001b[38;5;124m\"\u001b[39m\u001b[38;5;124m2\u001b[39m\u001b[38;5;124m\"\u001b[39m: [\u001b[38;5;241m2447\u001b[39m, \u001b[38;5;241m2670\u001b[39m], \u001b[38;5;124m\"\u001b[39m\u001b[38;5;124m3\u001b[39m\u001b[38;5;124m\"\u001b[39m: [\u001b[38;5;241m2199\u001b[39m, \u001b[38;5;241m2447\u001b[39m], \u001b[38;5;124m\"\u001b[39m\u001b[38;5;124m4\u001b[39m\u001b[38;5;124m\"\u001b[39m: [\u001b[38;5;241m1959\u001b[39m, \u001b[38;5;241m2199\u001b[39m], \u001b[38;5;124m\"\u001b[39m\u001b[38;5;124m5\u001b[39m\u001b[38;5;124m\"\u001b[39m: [\u001b[38;5;241m1711\u001b[39m, \u001b[38;5;241m1959\u001b[39m], \u001b[38;5;124m\"\u001b[39m\u001b[38;5;124m6\u001b[39m\u001b[38;5;124m\"\u001b[39m: [\u001b[38;5;241m1471\u001b[39m, \u001b[38;5;241m1711\u001b[39m],\n\u001b[0;32m      6\u001b[0m            \u001b[38;5;124m\"\u001b[39m\u001b[38;5;124m7\u001b[39m\u001b[38;5;124m\"\u001b[39m: [\u001b[38;5;241m1223\u001b[39m, \u001b[38;5;241m1471\u001b[39m],\u001b[38;5;124m\"\u001b[39m\u001b[38;5;124m8\u001b[39m\u001b[38;5;124m\"\u001b[39m: [\u001b[38;5;241m975\u001b[39m, \u001b[38;5;241m1223\u001b[39m], \u001b[38;5;124m\"\u001b[39m\u001b[38;5;124m9\u001b[39m\u001b[38;5;124m\"\u001b[39m: [\u001b[38;5;241m736\u001b[39m, \u001b[38;5;241m975\u001b[39m],\u001b[38;5;124m\"\u001b[39m\u001b[38;5;124m10\u001b[39m\u001b[38;5;124m\"\u001b[39m: [\u001b[38;5;241m488\u001b[39m, \u001b[38;5;241m736\u001b[39m], \u001b[38;5;124m\"\u001b[39m\u001b[38;5;124m11\u001b[39m\u001b[38;5;124m\"\u001b[39m: [\u001b[38;5;241m248\u001b[39m, \u001b[38;5;241m488\u001b[39m], \u001b[38;5;124m\"\u001b[39m\u001b[38;5;124m12\u001b[39m\u001b[38;5;124m\"\u001b[39m: [\u001b[38;5;241m0\u001b[39m,\u001b[38;5;241m248\u001b[39m]} \n\u001b[0;32m      9\u001b[0m month \u001b[38;5;241m=\u001b[39m \u001b[38;5;28mstr\u001b[39m(\u001b[38;5;28minput\u001b[39m(\u001b[38;5;124m\"\u001b[39m\u001b[38;5;124mВведите номер месяца: \u001b[39m\u001b[38;5;124m\"\u001b[39m))\n\u001b[1;32m---> 11\u001b[0m \u001b[43mdfpo\u001b[49m\u001b[38;5;241;43m.\u001b[39;49m\u001b[43miloc\u001b[49m\u001b[43m(\u001b[49m\u001b[43mPo_dict_num\u001b[49m\u001b[43m[\u001b[49m\u001b[43mmonth\u001b[49m\u001b[43m]\u001b[49m\u001b[43m[\u001b[49m\u001b[38;5;241;43m1\u001b[39;49m\u001b[43m]\u001b[49m\u001b[43m)\u001b[49m\n",
      "File \u001b[1;32m~\\AppData\\Local\\Programs\\Python\\Python310\\lib\\site-packages\\pandas\\core\\indexing.py:634\u001b[0m, in \u001b[0;36m_LocationIndexer.__call__\u001b[1;34m(self, axis)\u001b[0m\n\u001b[0;32m    631\u001b[0m new_self \u001b[38;5;241m=\u001b[39m \u001b[38;5;28mtype\u001b[39m(\u001b[38;5;28mself\u001b[39m)(\u001b[38;5;28mself\u001b[39m\u001b[38;5;241m.\u001b[39mname, \u001b[38;5;28mself\u001b[39m\u001b[38;5;241m.\u001b[39mobj)\n\u001b[0;32m    633\u001b[0m \u001b[38;5;28;01mif\u001b[39;00m axis \u001b[38;5;129;01mis\u001b[39;00m \u001b[38;5;129;01mnot\u001b[39;00m \u001b[38;5;28;01mNone\u001b[39;00m:\n\u001b[1;32m--> 634\u001b[0m     axis \u001b[38;5;241m=\u001b[39m \u001b[38;5;28;43mself\u001b[39;49m\u001b[38;5;241;43m.\u001b[39;49m\u001b[43mobj\u001b[49m\u001b[38;5;241;43m.\u001b[39;49m\u001b[43m_get_axis_number\u001b[49m\u001b[43m(\u001b[49m\u001b[43maxis\u001b[49m\u001b[43m)\u001b[49m\n\u001b[0;32m    635\u001b[0m new_self\u001b[38;5;241m.\u001b[39maxis \u001b[38;5;241m=\u001b[39m axis\n\u001b[0;32m    636\u001b[0m \u001b[38;5;28;01mreturn\u001b[39;00m new_self\n",
      "File \u001b[1;32m~\\AppData\\Local\\Programs\\Python\\Python310\\lib\\site-packages\\pandas\\core\\generic.py:552\u001b[0m, in \u001b[0;36mNDFrame._get_axis_number\u001b[1;34m(cls, axis)\u001b[0m\n\u001b[0;32m    550\u001b[0m     \u001b[38;5;28;01mreturn\u001b[39;00m \u001b[38;5;28mcls\u001b[39m\u001b[38;5;241m.\u001b[39m_AXIS_TO_AXIS_NUMBER[axis]\n\u001b[0;32m    551\u001b[0m \u001b[38;5;28;01mexcept\u001b[39;00m \u001b[38;5;167;01mKeyError\u001b[39;00m:\n\u001b[1;32m--> 552\u001b[0m     \u001b[38;5;28;01mraise\u001b[39;00m \u001b[38;5;167;01mValueError\u001b[39;00m(\u001b[38;5;124mf\u001b[39m\u001b[38;5;124m\"\u001b[39m\u001b[38;5;124mNo axis named \u001b[39m\u001b[38;5;132;01m{\u001b[39;00maxis\u001b[38;5;132;01m}\u001b[39;00m\u001b[38;5;124m for object type \u001b[39m\u001b[38;5;132;01m{\u001b[39;00m\u001b[38;5;28mcls\u001b[39m\u001b[38;5;241m.\u001b[39m\u001b[38;5;18m__name__\u001b[39m\u001b[38;5;132;01m}\u001b[39;00m\u001b[38;5;124m\"\u001b[39m)\n",
      "\u001b[1;31mValueError\u001b[0m: No axis named 2670 for object type DataFrame"
     ]
    }
   ],
   "source": [
    "# Индексы строк \n",
    "Po_dict = {\"January\": [2670, 2917],\"February\": [2447, 2670], \"March\": [2199, 2447], \"April\": [1959, 2199], \"May\": [1711, 1959],\n",
    "           \"June\": [1471, 1711], \"July\": [1223, 1471],\"August\": [975, 1223], \"September\": [736, 975],\"October\": [488, 736], \"November\": [248, 488], \"December\": [0,248]}\n",
    "\n",
    "Po_dict_num = {\"1\": [2670, 2917],\"2\": [2447, 2670], \"3\": [2199, 2447], \"4\": [1959, 2199], \"5\": [1711, 1959], \"6\": [1471, 1711],\n",
    "           \"7\": [1223, 1471],\"8\": [975, 1223], \"9\": [736, 975],\"10\": [488, 736], \"11\": [248, 488], \"12\": [0,248]} \n",
    "\n",
    "\n",
    "month = str(input(\"Введите номер месяца: \"))\n",
    "\n",
    "dfpo.iloc(Po_dict_num[month][1])"
   ]
  },
  {
   "cell_type": "code",
   "execution_count": 30,
   "id": "e0ce4e55-78aa-48c8-aa85-b8bc9a2bda09",
   "metadata": {},
   "outputs": [
    {
     "data": {
      "text/html": [
       "<div>\n",
       "<style scoped>\n",
       "    .dataframe tbody tr th:only-of-type {\n",
       "        vertical-align: middle;\n",
       "    }\n",
       "\n",
       "    .dataframe tbody tr th {\n",
       "        vertical-align: top;\n",
       "    }\n",
       "\n",
       "    .dataframe thead th {\n",
       "        text-align: right;\n",
       "    }\n",
       "</style>\n",
       "<table border=\"1\" class=\"dataframe\">\n",
       "  <thead>\n",
       "    <tr style=\"text-align: right;\">\n",
       "      <th></th>\n",
       "      <th>Po</th>\n",
       "    </tr>\n",
       "  </thead>\n",
       "  <tbody>\n",
       "    <tr>\n",
       "      <th>0</th>\n",
       "      <td>738.1</td>\n",
       "    </tr>\n",
       "    <tr>\n",
       "      <th>1</th>\n",
       "      <td>740.2</td>\n",
       "    </tr>\n",
       "    <tr>\n",
       "      <th>2</th>\n",
       "      <td>741.4</td>\n",
       "    </tr>\n",
       "    <tr>\n",
       "      <th>3</th>\n",
       "      <td>742.9</td>\n",
       "    </tr>\n",
       "    <tr>\n",
       "      <th>4</th>\n",
       "      <td>744.1</td>\n",
       "    </tr>\n",
       "    <tr>\n",
       "      <th>...</th>\n",
       "      <td>...</td>\n",
       "    </tr>\n",
       "    <tr>\n",
       "      <th>2913</th>\n",
       "      <td>749.3</td>\n",
       "    </tr>\n",
       "    <tr>\n",
       "      <th>2914</th>\n",
       "      <td>749.5</td>\n",
       "    </tr>\n",
       "    <tr>\n",
       "      <th>2915</th>\n",
       "      <td>749.4</td>\n",
       "    </tr>\n",
       "    <tr>\n",
       "      <th>2916</th>\n",
       "      <td>749.8</td>\n",
       "    </tr>\n",
       "    <tr>\n",
       "      <th>2917</th>\n",
       "      <td>750.1</td>\n",
       "    </tr>\n",
       "  </tbody>\n",
       "</table>\n",
       "<p>2918 rows × 1 columns</p>\n",
       "</div>"
      ],
      "text/plain": [
       "         Po\n",
       "0     738.1\n",
       "1     740.2\n",
       "2     741.4\n",
       "3     742.9\n",
       "4     744.1\n",
       "...     ...\n",
       "2913  749.3\n",
       "2914  749.5\n",
       "2915  749.4\n",
       "2916  749.8\n",
       "2917  750.1\n",
       "\n",
       "[2918 rows x 1 columns]"
      ]
     },
     "execution_count": 30,
     "metadata": {},
     "output_type": "execute_result"
    }
   ],
   "source": [
    "dfpo"
   ]
  }
 ],
 "metadata": {
  "kernelspec": {
   "display_name": "Python 3 (ipykernel)",
   "language": "python",
   "name": "python3"
  },
  "language_info": {
   "codemirror_mode": {
    "name": "ipython",
    "version": 3
   },
   "file_extension": ".py",
   "mimetype": "text/x-python",
   "name": "python",
   "nbconvert_exporter": "python",
   "pygments_lexer": "ipython3",
   "version": "3.10.4"
  }
 },
 "nbformat": 4,
 "nbformat_minor": 5
}
