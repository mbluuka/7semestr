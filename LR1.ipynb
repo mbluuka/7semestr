{
 "cells": [
  {
   "cell_type": "code",
   "execution_count": 73,
   "id": "67de2661-b292-407e-be40-d48c2acea578",
   "metadata": {},
   "outputs": [
    {
     "name": "stdout",
     "output_type": "stream",
     "text": [
      "Collecting windrose\n",
      "  Downloading windrose-1.7.0-py3-none-any.whl (11 kB)\n",
      "Collecting openpyxl\n",
      "  Downloading openpyxl-3.0.10-py2.py3-none-any.whl (242 kB)\n",
      "     ------------------------------------ 242.1/242.1 kB 424.0 kB/s eta 0:00:00\n",
      "Requirement already satisfied: matplotlib>=3 in c:\\users\\1\\appdata\\local\\programs\\python\\python310\\lib\\site-packages (from windrose) (3.5.3)\n",
      "Requirement already satisfied: numpy>=1.19 in c:\\users\\1\\appdata\\local\\programs\\python\\python310\\lib\\site-packages (from windrose) (1.23.2)\n",
      "Collecting et-xmlfile\n",
      "  Downloading et_xmlfile-1.1.0-py3-none-any.whl (4.7 kB)\n",
      "Requirement already satisfied: pillow>=6.2.0 in c:\\users\\1\\appdata\\local\\programs\\python\\python310\\lib\\site-packages (from matplotlib>=3->windrose) (9.2.0)\n",
      "Requirement already satisfied: cycler>=0.10 in c:\\users\\1\\appdata\\local\\programs\\python\\python310\\lib\\site-packages (from matplotlib>=3->windrose) (0.11.0)\n",
      "Requirement already satisfied: packaging>=20.0 in c:\\users\\1\\appdata\\local\\programs\\python\\python310\\lib\\site-packages (from matplotlib>=3->windrose) (21.3)\n",
      "Requirement already satisfied: kiwisolver>=1.0.1 in c:\\users\\1\\appdata\\local\\programs\\python\\python310\\lib\\site-packages (from matplotlib>=3->windrose) (1.4.4)\n",
      "Requirement already satisfied: fonttools>=4.22.0 in c:\\users\\1\\appdata\\local\\programs\\python\\python310\\lib\\site-packages (from matplotlib>=3->windrose) (4.37.1)\n",
      "Requirement already satisfied: pyparsing>=2.2.1 in c:\\users\\1\\appdata\\local\\programs\\python\\python310\\lib\\site-packages (from matplotlib>=3->windrose) (3.0.9)\n",
      "Requirement already satisfied: python-dateutil>=2.7 in c:\\users\\1\\appdata\\local\\programs\\python\\python310\\lib\\site-packages (from matplotlib>=3->windrose) (2.8.2)\n",
      "Requirement already satisfied: six>=1.5 in c:\\users\\1\\appdata\\local\\programs\\python\\python310\\lib\\site-packages (from python-dateutil>=2.7->matplotlib>=3->windrose) (1.16.0)\n",
      "Installing collected packages: et-xmlfile, openpyxl, windrose\n",
      "Successfully installed et-xmlfile-1.1.0 openpyxl-3.0.10 windrose-1.7.0\n",
      "\n",
      "[notice] A new release of pip available: 22.1.2 -> 22.2.2\n",
      "[notice] To update, run: python.exe -m pip install --upgrade pip\n"
     ]
    }
   ],
   "source": [
    "#!pip install matplotlib\n",
    "#!pip install windrose openpyxl"
   ]
  },
  {
   "cell_type": "code",
   "execution_count": 4,
   "id": "1cecfb7b-1c3c-41a7-9c77-fa9eba6db2e2",
   "metadata": {},
   "outputs": [],
   "source": [
    "import numpy as np\n",
    "import pandas as pd\n",
    "from matplotlib import pyplot as plt\n",
    "import matplotlib.cm as cm\n",
    "from math import pi"
   ]
  },
  {
   "cell_type": "code",
   "execution_count": 2,
   "id": "abe078e5-869c-4408-9e56-613c70eb31a1",
   "metadata": {},
   "outputs": [],
   "source": [
    "from windrose import WindroseAxes"
   ]
  },
  {
   "cell_type": "markdown",
   "id": "c351564b-fc53-49f4-908d-8cad8ff4b6ea",
   "metadata": {
    "tags": []
   },
   "source": [
    "### Считывание данных из файла\n"
   ]
  },
  {
   "cell_type": "markdown",
   "id": "012e8531-2b57-46a7-9510-84926bca32e9",
   "metadata": {
    "tags": []
   },
   "source": [
    "### Что делаль\n",
    "Во время анализа, я выделил несколько столбцов, которые мог бы убрать из глобальной выборке. Например столбец ff10 содержит 100 значений из 3000 строк."
   ]
  },
  {
   "cell_type": "code",
   "execution_count": 3,
   "id": "7d528e3e-610a-4f38-8da0-f16c048f51f8",
   "metadata": {},
   "outputs": [],
   "source": [
    "Weather_csv = pd.read_csv('weather_vladimir.csv', delimiter=',')"
   ]
  },
  {
   "cell_type": "code",
   "execution_count": null,
   "id": "beee269f-4a4f-4c56-9241-756d40bfb503",
   "metadata": {},
   "outputs": [],
   "source": [
    "Weather_csv"
   ]
  },
  {
   "cell_type": "markdown",
   "id": "acea697e-c8c7-41ab-a039-40189e9bdcab",
   "metadata": {
    "tags": []
   },
   "source": [
    "# 3 пункт лабораторной работы\n",
    "## Построение розы ветров\n",
    "1. Создал резеврный файл с данными, в котором изменил надписи в столбце DD на международный формат \n",
    "2. Дальше смотрел разные источники с описанием построения розы ветров"
   ]
  },
  {
   "cell_type": "code",
   "execution_count": 4,
   "id": "6377e5ea-6852-42c3-88e2-1f5c881591bf",
   "metadata": {},
   "outputs": [
    {
     "data": {
      "text/html": [
       "<div>\n",
       "<style scoped>\n",
       "    .dataframe tbody tr th:only-of-type {\n",
       "        vertical-align: middle;\n",
       "    }\n",
       "\n",
       "    .dataframe tbody tr th {\n",
       "        vertical-align: top;\n",
       "    }\n",
       "\n",
       "    .dataframe thead th {\n",
       "        text-align: right;\n",
       "    }\n",
       "</style>\n",
       "<table border=\"1\" class=\"dataframe\">\n",
       "  <thead>\n",
       "    <tr style=\"text-align: right;\">\n",
       "      <th></th>\n",
       "      <th>DD</th>\n",
       "      <th>Ff</th>\n",
       "      <th>Dir</th>\n",
       "    </tr>\n",
       "  </thead>\n",
       "  <tbody>\n",
       "    <tr>\n",
       "      <th>0</th>\n",
       "      <td>S</td>\n",
       "      <td>3</td>\n",
       "      <td>180.0</td>\n",
       "    </tr>\n",
       "    <tr>\n",
       "      <th>1</th>\n",
       "      <td>S</td>\n",
       "      <td>2</td>\n",
       "      <td>180.0</td>\n",
       "    </tr>\n",
       "    <tr>\n",
       "      <th>2</th>\n",
       "      <td>S</td>\n",
       "      <td>1</td>\n",
       "      <td>180.0</td>\n",
       "    </tr>\n",
       "    <tr>\n",
       "      <th>3</th>\n",
       "      <td>S</td>\n",
       "      <td>1</td>\n",
       "      <td>180.0</td>\n",
       "    </tr>\n",
       "    <tr>\n",
       "      <th>4</th>\n",
       "      <td>S</td>\n",
       "      <td>1</td>\n",
       "      <td>180.0</td>\n",
       "    </tr>\n",
       "    <tr>\n",
       "      <th>...</th>\n",
       "      <td>...</td>\n",
       "      <td>...</td>\n",
       "      <td>...</td>\n",
       "    </tr>\n",
       "    <tr>\n",
       "      <th>2913</th>\n",
       "      <td>SSE</td>\n",
       "      <td>3</td>\n",
       "      <td>157.5</td>\n",
       "    </tr>\n",
       "    <tr>\n",
       "      <th>2914</th>\n",
       "      <td>S</td>\n",
       "      <td>2</td>\n",
       "      <td>180.0</td>\n",
       "    </tr>\n",
       "    <tr>\n",
       "      <th>2915</th>\n",
       "      <td>S</td>\n",
       "      <td>3</td>\n",
       "      <td>180.0</td>\n",
       "    </tr>\n",
       "    <tr>\n",
       "      <th>2916</th>\n",
       "      <td>SSE</td>\n",
       "      <td>2</td>\n",
       "      <td>157.5</td>\n",
       "    </tr>\n",
       "    <tr>\n",
       "      <th>2917</th>\n",
       "      <td>S</td>\n",
       "      <td>2</td>\n",
       "      <td>180.0</td>\n",
       "    </tr>\n",
       "  </tbody>\n",
       "</table>\n",
       "<p>2918 rows × 3 columns</p>\n",
       "</div>"
      ],
      "text/plain": [
       "       DD  Ff    Dir\n",
       "0       S   3  180.0\n",
       "1       S   2  180.0\n",
       "2       S   1  180.0\n",
       "3       S   1  180.0\n",
       "4       S   1  180.0\n",
       "...   ...  ..    ...\n",
       "2913  SSE   3  157.5\n",
       "2914    S   2  180.0\n",
       "2915    S   3  180.0\n",
       "2916  SSE   2  157.5\n",
       "2917    S   2  180.0\n",
       "\n",
       "[2918 rows x 3 columns]"
      ]
     },
     "execution_count": 4,
     "metadata": {},
     "output_type": "execute_result"
    }
   ],
   "source": [
    "df_test = pd.read_csv(\"WV_test.csv\", delimiter = ',', usecols = [\"DD\", \"Ff\"])\n",
    "Ff_list = df_test[\"DD\"].tolist()\n",
    "degrees = []\n",
    "for i in Ff_list:\n",
    "    if i == \"N\":\n",
    "        degrees.append(0)\n",
    "    elif i == \"NNE\":\n",
    "        degrees.append(22.5)\n",
    "    elif i == \"NE\":\n",
    "        degrees.append(45)\n",
    "    elif i == \"ENE\":\n",
    "        degrees.append(67.5)\n",
    "    elif i == \"E\":\n",
    "        degrees.append(90)\n",
    "    elif i == \"ESE\":\n",
    "        degrees.append(112.5)\n",
    "    elif i == \"SE\":\n",
    "        degrees.append(135)\n",
    "    elif i == \"SSE\":\n",
    "        degrees.append(157.5)\n",
    "    elif i == \"S\":\n",
    "        degrees.append(180)\n",
    "    elif i == \"SSW\":\n",
    "        degrees.append(202.5)\n",
    "    elif i == \"SW\":\n",
    "        degrees.append(225)\n",
    "    elif i == \"WSW\":\n",
    "        degrees.append(247.5)\n",
    "    elif i == \"W\":\n",
    "        degrees.append(270)\n",
    "    elif i == \"WNW\":\n",
    "        degrees.append(292.5)\n",
    "    elif i == \"NW\":\n",
    "        degrees.append(315)\n",
    "    else:\n",
    "        degrees.append(337.5)\n",
    "\n",
    "df_test[\"Dir\"] = degrees\n",
    "df_test"
   ]
  },
  {
   "cell_type": "markdown",
   "id": "f02d8600-8679-4fbb-886c-1fe4962d8785",
   "metadata": {},
   "source": [
    "## Проверка корреляции данных\n"
   ]
  },
  {
   "cell_type": "code",
   "execution_count": 5,
   "id": "0fe661e7-4ebd-4ffb-94b4-e0d596417dca",
   "metadata": {},
   "outputs": [
    {
     "data": {
      "text/plain": [
       "<AxesSubplot:xlabel='x', ylabel='y'>"
      ]
     },
     "execution_count": 5,
     "metadata": {},
     "output_type": "execute_result"
    },
    {
     "data": {
      "image/png": "[encoded data removed]",
      "text/plain": [
       "<Figure size 640x640 with 1 Axes>"
      ]
     },
     "metadata": {
      "needs_background": "light"
     },
     "output_type": "display_data"
    }
   ],
   "source": [
    "df_test['x'] = df_test['Ff'] * np.sin(df_test['Dir'] * pi / 180.0)\n",
    "df_test['y'] = df_test['Ff'] * np.cos(df_test['Dir'] * pi / 180.0)\n",
    "fig, ax = plt.subplots(figsize=(8, 8), dpi = 80)\n",
    "x0, x1 = ax.get_xlim()\n",
    "y0, y1 = ax.get_ylim()\n",
    "ax.set_aspect('equal')\n",
    "df_test.plot(kind='scatter', x = 'x', y = 'y', alpha = 0.35, ax = ax)"
   ]
  },
  {
   "cell_type": "markdown",
   "id": "9cbff856-aacd-4332-9712-11addacf6d57",
   "metadata": {},
   "source": [
    "## Построение розы ветров в разных режимах"
   ]
  },
  {
   "cell_type": "code",
   "execution_count": 8,
   "id": "59b0db8e-dbc6-4d78-9157-66608d50a0f5",
   "metadata": {},
   "outputs": [
    {
     "data": {
      "text/plain": [
       "<matplotlib.legend.Legend at 0x20cbdc28ac0>"
      ]
     },
     "execution_count": 8,
     "metadata": {},
     "output_type": "execute_result"
    },
    {
     "data": {
      "image/png": "[encoded data removed]",
      "text/plain": [
       "<Figure size 640x640 with 1 Axes>"
      ]
     },
     "metadata": {},
     "output_type": "display_data"
    }
   ],
   "source": [
    "ax = WindroseAxes.from_ax()\n",
    "ax.bar(df_test.Dir, df_test.Ff, normed=True, opening=0.8, edgecolor = 'white')\n",
    "ax.set_legend()"
   ]
  },
  {
   "cell_type": "code",
   "execution_count": 15,
   "id": "d5597674-5d01-4664-b6af-3fd7f7b62d7b",
   "metadata": {},
   "outputs": [
    {
     "data": {
      "text/plain": [
       "<matplotlib.legend.Legend at 0x1afe5bc7520>"
      ]
     },
     "execution_count": 15,
     "metadata": {},
     "output_type": "execute_result"
    },
    {
     "data": {
      "image/png": "[encoded data removed]",
      "text/plain": [
       "<Figure size 640x640 with 1 Axes>"
      ]
     },
     "metadata": {},
     "output_type": "display_data"
    }
   ],
   "source": [
    "ax = WindroseAxes.from_ax()\n",
    "ax.contourf(df_test.Dir, df_test.Ff, bins=np.arange(0, 8, 1), cmap = cm.viridis)\n",
    "ax.set_legend()"
   ]
  },
  {
   "cell_type": "markdown",
   "id": "f2e86877-173a-4d93-8c3c-041913150a6e",
   "metadata": {},
   "source": [
    "# 4 пункт лабораторной работы:\n",
    "Выбранный параметр - T (Температура воздуха)\n",
    "1. максимальное, минимальное значения;\n",
    "2. среднее значение;\n",
    "3. медиану;\n",
    "4. стандартное отклонение;\n",
    "5. дисперсию;\n",
    "6. моду;\n",
    "7. 10 и 90 перцентиль;\n",
    "8. 1, 2, 3 квартили"
   ]
  },
  {
   "cell_type": "code",
   "execution_count": 4,
   "id": "6be4cfa2-cccd-4a09-a6dd-3548399d3683",
   "metadata": {},
   "outputs": [],
   "source": [
    "dft = pd.read_csv('weather_vladimir.csv', delimiter=',', usecols = [\"T\"]) # Выбираем параметр"
   ]
  },
  {
   "cell_type": "markdown",
   "id": "77c43473-e0ae-4ec0-b123-6a8d65e8a63e",
   "metadata": {},
   "source": [
    "#### Вычисление максимального и минимального значений"
   ]
  },
  {
   "cell_type": "code",
   "execution_count": 7,
   "id": "cfd885c8-3425-458b-ac17-bfeacb6ceb69",
   "metadata": {},
   "outputs": [
    {
     "data": {
      "text/plain": [
       "T    35.0\n",
       "dtype: float64"
      ]
     },
     "execution_count": 7,
     "metadata": {},
     "output_type": "execute_result"
    }
   ],
   "source": [
    "dft.max()"
   ]
  },
  {
   "cell_type": "code",
   "execution_count": 8,
   "id": "c7c51727-321b-46bf-a2d2-ef7b3780247b",
   "metadata": {},
   "outputs": [
    {
     "data": {
      "text/plain": [
       "T   -30.4\n",
       "dtype: float64"
      ]
     },
     "execution_count": 8,
     "metadata": {},
     "output_type": "execute_result"
    }
   ],
   "source": [
    "dft.min()"
   ]
  },
  {
   "cell_type": "raw",
   "id": "5a0d5a09-b838-40c3-b5fe-e3e612824b42",
   "metadata": {},
   "source": []
  },
  {
   "cell_type": "markdown",
   "id": "08c8cf83-656b-4ceb-967c-7963fde53490",
   "metadata": {},
   "source": [
    "#### Вычисление среднего значения\n",
    "Порядок вычисления:\n",
    "1. Суммируем все элементы списка\n",
    "2. Делим полученное значение на кол-во элементов"
   ]
  },
  {
   "cell_type": "code",
   "execution_count": 5,
   "id": "92d808cf-0e57-42f7-bc08-6fb507b021de",
   "metadata": {},
   "outputs": [
    {
     "data": {
      "text/plain": [
       "5.276525"
      ]
     },
     "execution_count": 5,
     "metadata": {},
     "output_type": "execute_result"
    }
   ],
   "source": [
    "temp_list = dft.values.tolist()\n",
    "all_temp = 0\n",
    "for temp in temp_list:\n",
    "    all_temp += temp[0]\n",
    "res = all_temp / len(temp_list)\n",
    "round(res, 6)"
   ]
  },
  {
   "cell_type": "code",
   "execution_count": 9,
   "id": "a1294d88-b4ea-4303-8bce-41fd8621ab44",
   "metadata": {},
   "outputs": [
    {
     "data": {
      "text/plain": [
       "T    5.276525\n",
       "dtype: float64"
      ]
     },
     "execution_count": 9,
     "metadata": {},
     "output_type": "execute_result"
    }
   ],
   "source": [
    "dft.mean()"
   ]
  },
  {
   "cell_type": "code",
   "execution_count": null,
   "id": "4698b789-bb58-4aa5-a1ad-a702d8b2e06f",
   "metadata": {},
   "outputs": [],
   "source": []
  },
  {
   "cell_type": "markdown",
   "id": "5399414c-db2f-49e0-b836-e1bf71b5e624",
   "metadata": {},
   "source": [
    "#### Вычиcление медианы\n",
    "Порядок выполнения:\n",
    "1. Отсортируем список\n",
    "2. Найдём серединный элемент"
   ]
  },
  {
   "cell_type": "code",
   "execution_count": 6,
   "id": "af6cbef7-7076-42df-b789-8d4d2be47d2e",
   "metadata": {},
   "outputs": [
    {
     "data": {
      "text/plain": [
       "[5.5]"
      ]
     },
     "execution_count": 6,
     "metadata": {},
     "output_type": "execute_result"
    }
   ],
   "source": [
    "med_temp_list = temp_list.copy()\n",
    "med_temp_list.sort()\n",
    "med_temp_list[int(len(med_temp_list)/2)]"
   ]
  },
  {
   "cell_type": "code",
   "execution_count": 16,
   "id": "9566b22f-b3a0-41b5-aa01-eaa106bec51b",
   "metadata": {},
   "outputs": [
    {
     "data": {
      "text/plain": [
       "T    5.5\n",
       "dtype: float64"
      ]
     },
     "execution_count": 16,
     "metadata": {},
     "output_type": "execute_result"
    }
   ],
   "source": [
    "dft.median()"
   ]
  },
  {
   "cell_type": "raw",
   "id": "e08c52ca-572e-4e5b-a36e-e2f24d41a009",
   "metadata": {},
   "source": []
  },
  {
   "cell_type": "markdown",
   "id": "261ed49d-8abb-4b3f-a4de-295fcaa07121",
   "metadata": {
    "tags": []
   },
   "source": [
    "#### Вычисление дисперсии\n",
    "\n",
    "Для вычисления дисперсии нам надо использовать формулу:\n",
    "$$ \\sigma^2 = \\frac{\\sum(x-\\bar{x})^2} {n-1}  $$"
   ]
  },
  {
   "cell_type": "code",
   "execution_count": 17,
   "id": "b6179379-692c-4df1-b141-f6ce5462eb1f",
   "metadata": {},
   "outputs": [
    {
     "data": {
      "text/plain": [
       "165.427879"
      ]
     },
     "execution_count": 17,
     "metadata": {},
     "output_type": "execute_result"
    }
   ],
   "source": [
    "high_sum = 0\n",
    "for temp in temp_list:\n",
    "    prom = (round(temp[0], 1) - res) ** 2\n",
    "    high_sum += prom\n",
    "variance = high_sum/ (len(temp_list) -1)\n",
    "round(variance, 6)"
   ]
  },
  {
   "cell_type": "code",
   "execution_count": 18,
   "id": "b904cf65-ee68-49d3-aa93-a99aeb0f564f",
   "metadata": {},
   "outputs": [
    {
     "data": {
      "text/plain": [
       "T    165.427879\n",
       "dtype: float64"
      ]
     },
     "execution_count": 18,
     "metadata": {},
     "output_type": "execute_result"
    }
   ],
   "source": [
    "dft.var()"
   ]
  },
  {
   "cell_type": "raw",
   "id": "852cc696-a9fd-4e64-b81e-c373b641eb1b",
   "metadata": {},
   "source": []
  },
  {
   "cell_type": "markdown",
   "id": "c2091351-a6b4-44a8-9d3f-77c07610715b",
   "metadata": {},
   "source": [
    "#### Вычисление стандартного отклонения\n",
    "Для вычисления с.о. необходимо вычислить корень дисперсии\n",
    "\n",
    "$$ \\sigma = \\sqrt{\\sigma^2} $$"
   ]
  },
  {
   "cell_type": "code",
   "execution_count": 19,
   "id": "c1e77ad0-6c2d-4918-8247-72a9c9169ac8",
   "metadata": {},
   "outputs": [
    {
     "data": {
      "text/plain": [
       "12.861877"
      ]
     },
     "execution_count": 19,
     "metadata": {},
     "output_type": "execute_result"
    }
   ],
   "source": [
    "round(variance ** 0.5, 6)"
   ]
  },
  {
   "cell_type": "code",
   "execution_count": 20,
   "id": "5e43504d-6abb-4771-82d0-7e63b097d8bc",
   "metadata": {},
   "outputs": [
    {
     "data": {
      "text/plain": [
       "T    12.861877\n",
       "dtype: float64"
      ]
     },
     "execution_count": 20,
     "metadata": {},
     "output_type": "execute_result"
    }
   ],
   "source": [
    "dft.std()"
   ]
  },
  {
   "cell_type": "markdown",
   "id": "2709a06c-ab12-4ff8-9722-5b014d9e873a",
   "metadata": {},
   "source": [
    "#### Вычисление моды\n",
    "Для вычсиления моды нам понадобится:\n",
    "1. Посчитать кол-во повторений элемента в списке\n",
    "2. Найти наиболее повторяющееся значение\n"
   ]
  },
  {
   "cell_type": "code",
   "execution_count": 18,
   "id": "51afd1bd-cbe8-4607-bc36-4b117f441cf9",
   "metadata": {},
   "outputs": [
    {
     "name": "stdout",
     "output_type": "stream",
     "text": [
      "1.2 17\n"
     ]
    }
   ],
   "source": [
    "counts = {}\n",
    "for temp in temp_list:\n",
    "    if temp[0] not in counts:\n",
    "        counts[round(temp[0], 1)] = 1\n",
    "    else:\n",
    "        counts[round(temp[0], 1)] += 1\n",
    "\n",
    "maxim = 0\n",
    "mode_temp = None\n",
    "for k, v in counts.items():\n",
    "    if maxim < v:\n",
    "        maxim = v\n",
    "        mode_temp = k\n",
    "\n",
    "print(mode_temp, maxim)"
   ]
  },
  {
   "cell_type": "code",
   "execution_count": 21,
   "id": "cacc32d5-9db6-4835-8036-2de3b99581d4",
   "metadata": {},
   "outputs": [
    {
     "data": {
      "text/plain": [
       "T    \n",
       " 0.6     17\n",
       " 1.2     17\n",
       " 8.3     17\n",
       "-1.5     16\n",
       "-2.9     15\n",
       "         ..\n",
       "-17.5     1\n",
       "-17.8     1\n",
       "-18.2     1\n",
       "-19.0     1\n",
       " 35.0     1\n",
       "Length: 561, dtype: int64"
      ]
     },
     "execution_count": 21,
     "metadata": {},
     "output_type": "execute_result"
    }
   ],
   "source": [
    "dft.value_counts()"
   ]
  },
  {
   "cell_type": "markdown",
   "id": "ff08d74b-f12e-4211-af81-337b9356e660",
   "metadata": {},
   "source": [
    "#### 10 и 90 перцентили\n",
    "Перцентиль/квантиль вычисляется ручками следующим образом:\n",
    "1. Отсортируем список в возрастающем порядке\n",
    "2. Рассчитаем i, интересующего нас перцентиля/квантиля\n",
    "\n",
    "$$ i = (\\frac{p} {100}) * (n+1) $$, \n",
    "где n - число значений, p - перцентиль"
   ]
  },
  {
   "cell_type": "code",
   "execution_count": 19,
   "id": "f7bc93ba-71f0-45f3-a2c1-a07dcf1802fa",
   "metadata": {},
   "outputs": [
    {
     "name": "stdin",
     "output_type": "stream",
     "text": [
      "Введите перцентиль/квантиль:  50\n"
     ]
    },
    {
     "data": {
      "text/plain": [
       "[5.5]"
      ]
     },
     "execution_count": 19,
     "metadata": {},
     "output_type": "execute_result"
    }
   ],
   "source": [
    "n = len(med_temp_list)\n",
    "p = int(input(\"Введите перцентиль/квантиль: \"))\n",
    "i = (p/100) * (n+1)\n",
    "med_temp_list[int(i)]"
   ]
  },
  {
   "cell_type": "code",
   "execution_count": 25,
   "id": "0d0bb1e2-08da-4b9e-94ea-74cf92565287",
   "metadata": {},
   "outputs": [
    {
     "data": {
      "text/html": [
       "<div>\n",
       "<style scoped>\n",
       "    .dataframe tbody tr th:only-of-type {\n",
       "        vertical-align: middle;\n",
       "    }\n",
       "\n",
       "    .dataframe tbody tr th {\n",
       "        vertical-align: top;\n",
       "    }\n",
       "\n",
       "    .dataframe thead th {\n",
       "        text-align: right;\n",
       "    }\n",
       "</style>\n",
       "<table border=\"1\" class=\"dataframe\">\n",
       "  <thead>\n",
       "    <tr style=\"text-align: right;\">\n",
       "      <th></th>\n",
       "      <th>T</th>\n",
       "    </tr>\n",
       "  </thead>\n",
       "  <tbody>\n",
       "    <tr>\n",
       "      <th>0.1</th>\n",
       "      <td>-13.6</td>\n",
       "    </tr>\n",
       "    <tr>\n",
       "      <th>0.9</th>\n",
       "      <td>21.7</td>\n",
       "    </tr>\n",
       "  </tbody>\n",
       "</table>\n",
       "</div>"
      ],
      "text/plain": [
       "        T\n",
       "0.1 -13.6\n",
       "0.9  21.7"
      ]
     },
     "execution_count": 25,
     "metadata": {},
     "output_type": "execute_result"
    }
   ],
   "source": [
    "dft.quantile(q = [0.1, 0.9], axis = 0, numeric_only = True)"
   ]
  },
  {
   "cell_type": "markdown",
   "id": "7d2926ea-81ec-42c6-b5f0-2215b0911ff9",
   "metadata": {},
   "source": [
    "#### Квантили"
   ]
  },
  {
   "cell_type": "code",
   "execution_count": 21,
   "id": "1a4b658e-705f-4330-8df7-df17105ea7ec",
   "metadata": {},
   "outputs": [
    {
     "data": {
      "text/html": [
       "<div>\n",
       "<style scoped>\n",
       "    .dataframe tbody tr th:only-of-type {\n",
       "        vertical-align: middle;\n",
       "    }\n",
       "\n",
       "    .dataframe tbody tr th {\n",
       "        vertical-align: top;\n",
       "    }\n",
       "\n",
       "    .dataframe thead th {\n",
       "        text-align: right;\n",
       "    }\n",
       "</style>\n",
       "<table border=\"1\" class=\"dataframe\">\n",
       "  <thead>\n",
       "    <tr style=\"text-align: right;\">\n",
       "      <th></th>\n",
       "      <th>T</th>\n",
       "    </tr>\n",
       "  </thead>\n",
       "  <tbody>\n",
       "    <tr>\n",
       "      <th>0.25</th>\n",
       "      <td>-2.6</td>\n",
       "    </tr>\n",
       "    <tr>\n",
       "      <th>0.50</th>\n",
       "      <td>5.5</td>\n",
       "    </tr>\n",
       "    <tr>\n",
       "      <th>0.75</th>\n",
       "      <td>15.2</td>\n",
       "    </tr>\n",
       "  </tbody>\n",
       "</table>\n",
       "</div>"
      ],
      "text/plain": [
       "         T\n",
       "0.25  -2.6\n",
       "0.50   5.5\n",
       "0.75  15.2"
      ]
     },
     "execution_count": 21,
     "metadata": {},
     "output_type": "execute_result"
    }
   ],
   "source": [
    "dft.quantile(q = [0.25, 0.5, 0.75], axis = 0, numeric_only = True)"
   ]
  },
  {
   "cell_type": "markdown",
   "id": "2f3c33b5-89b5-4d28-8e19-115923e0a6fd",
   "metadata": {},
   "source": [
    "#### Все вместе"
   ]
  },
  {
   "cell_type": "code",
   "execution_count": 53,
   "id": "745f7333-dde6-4e90-a426-7d9dc1a36c06",
   "metadata": {},
   "outputs": [
    {
     "data": {
      "text/html": [
       "<div>\n",
       "<style scoped>\n",
       "    .dataframe tbody tr th:only-of-type {\n",
       "        vertical-align: middle;\n",
       "    }\n",
       "\n",
       "    .dataframe tbody tr th {\n",
       "        vertical-align: top;\n",
       "    }\n",
       "\n",
       "    .dataframe thead th {\n",
       "        text-align: right;\n",
       "    }\n",
       "</style>\n",
       "<table border=\"1\" class=\"dataframe\">\n",
       "  <thead>\n",
       "    <tr style=\"text-align: right;\">\n",
       "      <th></th>\n",
       "      <th>T</th>\n",
       "    </tr>\n",
       "  </thead>\n",
       "  <tbody>\n",
       "    <tr>\n",
       "      <th>count</th>\n",
       "      <td>2918.00</td>\n",
       "    </tr>\n",
       "    <tr>\n",
       "      <th>mean</th>\n",
       "      <td>5.28</td>\n",
       "    </tr>\n",
       "    <tr>\n",
       "      <th>std</th>\n",
       "      <td>12.86</td>\n",
       "    </tr>\n",
       "    <tr>\n",
       "      <th>min</th>\n",
       "      <td>-30.40</td>\n",
       "    </tr>\n",
       "    <tr>\n",
       "      <th>25%</th>\n",
       "      <td>-2.60</td>\n",
       "    </tr>\n",
       "    <tr>\n",
       "      <th>50%</th>\n",
       "      <td>5.50</td>\n",
       "    </tr>\n",
       "    <tr>\n",
       "      <th>75%</th>\n",
       "      <td>15.20</td>\n",
       "    </tr>\n",
       "    <tr>\n",
       "      <th>max</th>\n",
       "      <td>35.00</td>\n",
       "    </tr>\n",
       "  </tbody>\n",
       "</table>\n",
       "</div>"
      ],
      "text/plain": [
       "             T\n",
       "count  2918.00\n",
       "mean      5.28\n",
       "std      12.86\n",
       "min     -30.40\n",
       "25%      -2.60\n",
       "50%       5.50\n",
       "75%      15.20\n",
       "max      35.00"
      ]
     },
     "execution_count": 53,
     "metadata": {},
     "output_type": "execute_result"
    }
   ],
   "source": [
    "dft.describe().round(2)"
   ]
  },
  {
   "cell_type": "code",
   "execution_count": null,
   "id": "a3d229df-4d9f-432f-b9b9-7a417c7204f6",
   "metadata": {},
   "outputs": [],
   "source": [
    "# Индексы строк \n",
    "Po_dict = {\"January\": [2670, 2917],\"February\": [2447, 2670], \"March\": [2199, 2447], \"April\": [1959, 2199], \"May\": [1711, 1959],\n",
    "           \"June\": [1471, 1711], \"July\": [1223, 1471],\"August\": [975, 1223], \"September\": [736, 975],\"October\": [488, 736], \"November\": [248, 488], \"December\": [0,248]}\n",
    "\n",
    "Po_dict_num = {\"1\": [2670, 2917],\"2\": [2447, 2670], \"3\": [2199, 2447], \"4\": [1959, 2199], \"5\": [1711, 1959], \"6\": [1471, 1711],\n",
    "           \"7\": [1223, 1471],\"8\": [975, 1223], \"9\": [736, 975],\"10\": [488, 736], \"11\": [248, 488], \"12\": [0,248]} \n",
    "\n",
    "\n",
    "month = str(input(\"Введите номер месяца: \"))\n",
    "\n",
    "dfpo.iloc(Po_dict_num[month][1])"
   ]
  },
  {
   "cell_type": "markdown",
   "id": "52b9a47a-9dfa-4fb4-9572-04ad378ddda1",
   "metadata": {},
   "source": [
    "# 5 пункт\n",
    "### Построение гистограммы\n",
    "Для построения гистрограммы, я беру максимальные значения за каждый день выбранного месяца "
   ]
  },
  {
   "cell_type": "code",
   "execution_count": 2,
   "id": "fa03d896-ad23-4fba-927b-c67a5e1274bd",
   "metadata": {},
   "outputs": [],
   "source": [
    "import matplotlib as mpl\n",
    "from calendar import monthrange"
   ]
  },
  {
   "cell_type": "code",
   "execution_count": 5,
   "id": "c23fa4c6-bf38-4817-9428-5754df952864",
   "metadata": {},
   "outputs": [],
   "source": [
    "dfdh = pd.read_csv('weather_vladimir.csv', delimiter=',', usecols = [\"Date\", \"U\"], parse_dates = [\"Date\"])"
   ]
  },
  {
   "cell_type": "code",
   "execution_count": 6,
   "id": "af3fe491-e619-4c69-849e-0e9a445de235",
   "metadata": {},
   "outputs": [],
   "source": [
    "dfdh.set_index(\"Date\", inplace=True)"
   ]
  },
  {
   "cell_type": "code",
   "execution_count": 86,
   "id": "5c70cd2a-c4f3-4742-8bcc-2a050027f3be",
   "metadata": {},
   "outputs": [
    {
     "data": {
      "text/plain": [
       "[96,\n",
       " 91,\n",
       " 79,\n",
       " 97,\n",
       " 96,\n",
       " 78,\n",
       " 91,\n",
       " 89,\n",
       " 94,\n",
       " 88,\n",
       " 96,\n",
       " 94,\n",
       " 88,\n",
       " 95,\n",
       " 96,\n",
       " 97,\n",
       " 92,\n",
       " 92,\n",
       " 92,\n",
       " 81,\n",
       " 93,\n",
       " 89,\n",
       " 89,\n",
       " 88,\n",
       " 67,\n",
       " 91,\n",
       " 95,\n",
       " 90,\n",
       " 79,\n",
       " 54,\n",
       " 97]"
      ]
     },
     "execution_count": 86,
     "metadata": {},
     "output_type": "execute_result"
    }
   ],
   "source": [
    "max_Po = []\n",
    "#print(type(name))\n",
    "jan = dfdh['U'].resample('D').max()\n",
    "\n",
    "number_day = 1\n",
    "year = 2021\n",
    "month = 3\n",
    "\n",
    "days = monthrange(year, month)[1]\n",
    "while len(max_Po) != days:\n",
    "    Element = jan[f\"{year}-{month}-{number_day}\"].round()\n",
    "    max_Po.append(int(Element))\n",
    "    number_day += 1\n",
    "max_Po"
   ]
  },
  {
   "cell_type": "code",
   "execution_count": 84,
   "id": "498f4eb5-2ff5-4768-9e9c-d2f8600997a4",
   "metadata": {
    "tags": []
   },
   "outputs": [
    {
     "data": {
      "text/plain": [
       "{96: 4,\n",
       " 91: 3,\n",
       " 79: 2,\n",
       " 97: 3,\n",
       " 78: 1,\n",
       " 89: 3,\n",
       " 94: 2,\n",
       " 88: 3,\n",
       " 95: 2,\n",
       " 92: 3,\n",
       " 81: 1,\n",
       " 93: 1,\n",
       " 67: 1,\n",
       " 90: 1,\n",
       " 54: 1}"
      ]
     },
     "execution_count": 84,
     "metadata": {},
     "output_type": "execute_result"
    }
   ],
   "source": [
    "dict_max_Po = {}\n",
    "for i in max_Po:\n",
    "    if i in dict_max_Po:\n",
    "        continue\n",
    "    else:\n",
    "        dict_max_Po[i] = max_Po.count(i)\n",
    "dict_max_Po"
   ]
  },
  {
   "cell_type": "code",
   "execution_count": 85,
   "id": "02c1ad1e-270d-4913-8739-de5bf7c657da",
   "metadata": {},
   "outputs": [
    {
     "data": {
      "image/png": "[encoded data removed]",
      "text/plain": [
       "<Figure size 432x288 with 1 Axes>"
      ]
     },
     "metadata": {
      "needs_background": "light"
     },
     "output_type": "display_data"
    }
   ],
   "source": [
    "width = 0.75\n",
    "\n",
    "fix, ax = plt.subplots()\n",
    "ax.set_ylabel(\"Частота\")\n",
    "ax.set_xlabel(\"Относительная влажность\")\n",
    "\n",
    "x = list(dict_max_Po)\n",
    "y = list(dict_max_Po.values())\n",
    "ax.bar(x, y, width, edgecolor=\"black\", linewidth=1)\n",
    "ax.tick_params(axis=\"x\", labelrotation = 55, color=\"r\", labelcolor= 'black')\n",
    "#ax.set_box_aspect()\n",
    "\n",
    "plt.show()"
   ]
  },
  {
   "cell_type": "code",
   "execution_count": 14,
   "id": "652707e3-ecda-4f63-92b1-cee2cf3d7dbf",
   "metadata": {},
   "outputs": [
    {
     "data": {
      "image/png": "[encoded data removed]",
      "text/plain": [
       "<Figure size 432x288 with 1 Axes>"
      ]
     },
     "metadata": {
      "needs_background": "light"
     },
     "output_type": "display_data"
    }
   ],
   "source": [
    "# Общая информация, а не за определенный месяц\n",
    "dfdh[\"U\"].hist(bins = days)\n",
    "plt.xlabel(\"Относительная влажность\")\n",
    "plt.ylabel(\"Частота\")\n",
    "plt.show()"
   ]
  },
  {
   "cell_type": "code",
   "execution_count": 18,
   "id": "3cbb43e8-1e3d-4a42-8621-f8f31f69dd35",
   "metadata": {},
   "outputs": [
    {
     "data": {
      "text/plain": [
       "-0.9914150694997008"
      ]
     },
     "execution_count": 18,
     "metadata": {},
     "output_type": "execute_result"
    }
   ],
   "source": [
    "dfdh[\"U\"].skew()"
   ]
  },
  {
   "cell_type": "code",
   "execution_count": 16,
   "id": "f1a5a517-0344-4d22-997a-67b9033822dc",
   "metadata": {},
   "outputs": [
    {
     "data": {
      "image/png": "[encoded data removed]",
      "text/plain": [
       "<Figure size 432x288 with 1 Axes>"
      ]
     },
     "metadata": {
      "needs_background": "light"
     },
     "output_type": "display_data"
    }
   ],
   "source": [
    "dfdh[\"U\"].apply(np.log).hist(bins = days)\n",
    "plt.xlabel(\"Относительная логарифмическая влажность\")\n",
    "plt.ylabel(\"Частота\")\n",
    "plt.show()"
   ]
  },
  {
   "cell_type": "code",
   "execution_count": 22,
   "id": "e14dcbdf-e9bc-4765-9807-ab16e0e075b8",
   "metadata": {},
   "outputs": [
    {
     "data": {
      "text/plain": [
       "-1.6483770065593641"
      ]
     },
     "execution_count": 22,
     "metadata": {},
     "output_type": "execute_result"
    }
   ],
   "source": [
    "dfdh[\"U\"].apply(np.log).skew()"
   ]
  },
  {
   "cell_type": "markdown",
   "id": "38d95b1a-86ad-40a0-9045-872ec10cec31",
   "metadata": {},
   "source": [
    "# 6 Пункт\n",
    "TODO: Рассчитать коэффициент корреляции между несколькими параметрами\n",
    "1. Определим наличие корреляции между двумя переменными.\n",
    "2. Отфильтруем данные, выбрав только направление ветра\n",
    "3. Построим график скорости ветра относительно определенного направления ветра (Допустим  Южного - S)\n"
   ]
  },
  {
   "cell_type": "code",
   "execution_count": 49,
   "id": "a784d414-4c22-4d53-82ee-90f7f437e0b5",
   "metadata": {},
   "outputs": [
    {
     "data": {
      "text/html": [
       "<div>\n",
       "<style scoped>\n",
       "    .dataframe tbody tr th:only-of-type {\n",
       "        vertical-align: middle;\n",
       "    }\n",
       "\n",
       "    .dataframe tbody tr th {\n",
       "        vertical-align: top;\n",
       "    }\n",
       "\n",
       "    .dataframe thead th {\n",
       "        text-align: right;\n",
       "    }\n",
       "</style>\n",
       "<table border=\"1\" class=\"dataframe\">\n",
       "  <thead>\n",
       "    <tr style=\"text-align: right;\">\n",
       "      <th></th>\n",
       "      <th>Date</th>\n",
       "      <th>T</th>\n",
       "      <th>Po</th>\n",
       "      <th>P</th>\n",
       "      <th>Pa</th>\n",
       "      <th>U</th>\n",
       "      <th>DD</th>\n",
       "      <th>Ff</th>\n",
       "      <th>N</th>\n",
       "      <th>WW</th>\n",
       "      <th>...</th>\n",
       "      <th>Cm</th>\n",
       "      <th>Ch</th>\n",
       "      <th>VV</th>\n",
       "      <th>Td</th>\n",
       "      <th>RRR</th>\n",
       "      <th>tR</th>\n",
       "      <th>E</th>\n",
       "      <th>Tg</th>\n",
       "      <th>E'</th>\n",
       "      <th>sss</th>\n",
       "    </tr>\n",
       "  </thead>\n",
       "  <tbody>\n",
       "    <tr>\n",
       "      <th>0</th>\n",
       "      <td>31.12.2021 21:00</td>\n",
       "      <td>-5.7</td>\n",
       "      <td>738.1</td>\n",
       "      <td>754.5</td>\n",
       "      <td>-2.1</td>\n",
       "      <td>93</td>\n",
       "      <td>S</td>\n",
       "      <td>3</td>\n",
       "      <td>100%.</td>\n",
       "      <td>Снег непрерывный слабый в срок наблюдения.</td>\n",
       "      <td>...</td>\n",
       "      <td>Высокослоистые непросвечивающие или слоисто-до...</td>\n",
       "      <td>NaN</td>\n",
       "      <td>4.0</td>\n",
       "      <td>-6.7</td>\n",
       "      <td>NaN</td>\n",
       "      <td>NaN</td>\n",
       "      <td>NaN</td>\n",
       "      <td>NaN</td>\n",
       "      <td>NaN</td>\n",
       "      <td>NaN</td>\n",
       "    </tr>\n",
       "    <tr>\n",
       "      <th>1</th>\n",
       "      <td>31.12.2021 18:00</td>\n",
       "      <td>-6.3</td>\n",
       "      <td>740.2</td>\n",
       "      <td>756.5</td>\n",
       "      <td>-1.2</td>\n",
       "      <td>93</td>\n",
       "      <td>S</td>\n",
       "      <td>2</td>\n",
       "      <td>100%.</td>\n",
       "      <td>Снег непрерывный слабый в срок наблюдения.  Ди...</td>\n",
       "      <td>...</td>\n",
       "      <td>Высокослоистые непросвечивающие или слоисто-до...</td>\n",
       "      <td>NaN</td>\n",
       "      <td>2.0</td>\n",
       "      <td>-7.3</td>\n",
       "      <td>Следы осадков</td>\n",
       "      <td>12.0</td>\n",
       "      <td>NaN</td>\n",
       "      <td>NaN</td>\n",
       "      <td>NaN</td>\n",
       "      <td>NaN</td>\n",
       "    </tr>\n",
       "    <tr>\n",
       "      <th>2</th>\n",
       "      <td>31.12.2021 15:00</td>\n",
       "      <td>-6.8</td>\n",
       "      <td>741.4</td>\n",
       "      <td>757.9</td>\n",
       "      <td>-1.5</td>\n",
       "      <td>92</td>\n",
       "      <td>S</td>\n",
       "      <td>1</td>\n",
       "      <td>100%.</td>\n",
       "      <td>Морось (незамерзающая) или снежные зерна нелив...</td>\n",
       "      <td>...</td>\n",
       "      <td>NaN</td>\n",
       "      <td>NaN</td>\n",
       "      <td>2.0</td>\n",
       "      <td>-7.9</td>\n",
       "      <td>NaN</td>\n",
       "      <td>NaN</td>\n",
       "      <td>NaN</td>\n",
       "      <td>NaN</td>\n",
       "      <td>NaN</td>\n",
       "      <td>NaN</td>\n",
       "    </tr>\n",
       "    <tr>\n",
       "      <th>3</th>\n",
       "      <td>31.12.2021 12:00</td>\n",
       "      <td>-7.4</td>\n",
       "      <td>742.9</td>\n",
       "      <td>759.5</td>\n",
       "      <td>-1.2</td>\n",
       "      <td>91</td>\n",
       "      <td>S</td>\n",
       "      <td>1</td>\n",
       "      <td>100%.</td>\n",
       "      <td>Морось замерзающая слабая.  Диаметр смешанного...</td>\n",
       "      <td>...</td>\n",
       "      <td>NaN</td>\n",
       "      <td>NaN</td>\n",
       "      <td>4.0</td>\n",
       "      <td>-8.6</td>\n",
       "      <td>NaN</td>\n",
       "      <td>NaN</td>\n",
       "      <td>NaN</td>\n",
       "      <td>NaN</td>\n",
       "      <td>NaN</td>\n",
       "      <td>NaN</td>\n",
       "    </tr>\n",
       "    <tr>\n",
       "      <th>4</th>\n",
       "      <td>31.12.2021 09:00</td>\n",
       "      <td>-8.3</td>\n",
       "      <td>744.1</td>\n",
       "      <td>760.7</td>\n",
       "      <td>-0.7</td>\n",
       "      <td>90</td>\n",
       "      <td>S</td>\n",
       "      <td>1</td>\n",
       "      <td>100%.</td>\n",
       "      <td>Дымка.</td>\n",
       "      <td>...</td>\n",
       "      <td>NaN</td>\n",
       "      <td>NaN</td>\n",
       "      <td>4.0</td>\n",
       "      <td>-9.6</td>\n",
       "      <td>NaN</td>\n",
       "      <td>NaN</td>\n",
       "      <td>NaN</td>\n",
       "      <td>NaN</td>\n",
       "      <td>NaN</td>\n",
       "      <td>NaN</td>\n",
       "    </tr>\n",
       "    <tr>\n",
       "      <th>...</th>\n",
       "      <td>...</td>\n",
       "      <td>...</td>\n",
       "      <td>...</td>\n",
       "      <td>...</td>\n",
       "      <td>...</td>\n",
       "      <td>...</td>\n",
       "      <td>...</td>\n",
       "      <td>...</td>\n",
       "      <td>...</td>\n",
       "      <td>...</td>\n",
       "      <td>...</td>\n",
       "      <td>...</td>\n",
       "      <td>...</td>\n",
       "      <td>...</td>\n",
       "      <td>...</td>\n",
       "      <td>...</td>\n",
       "      <td>...</td>\n",
       "      <td>...</td>\n",
       "      <td>...</td>\n",
       "      <td>...</td>\n",
       "      <td>...</td>\n",
       "    </tr>\n",
       "    <tr>\n",
       "      <th>2913</th>\n",
       "      <td>01.01.2021 12:00</td>\n",
       "      <td>-1.6</td>\n",
       "      <td>749.3</td>\n",
       "      <td>765.6</td>\n",
       "      <td>-0.2</td>\n",
       "      <td>96</td>\n",
       "      <td>SSE</td>\n",
       "      <td>3</td>\n",
       "      <td>100%.</td>\n",
       "      <td>Дымка.</td>\n",
       "      <td>...</td>\n",
       "      <td>NaN</td>\n",
       "      <td>NaN</td>\n",
       "      <td>4.0</td>\n",
       "      <td>-2.2</td>\n",
       "      <td>NaN</td>\n",
       "      <td>NaN</td>\n",
       "      <td>NaN</td>\n",
       "      <td>NaN</td>\n",
       "      <td>NaN</td>\n",
       "      <td>NaN</td>\n",
       "    </tr>\n",
       "    <tr>\n",
       "      <th>2914</th>\n",
       "      <td>01.01.2021 09:00</td>\n",
       "      <td>-1.9</td>\n",
       "      <td>749.5</td>\n",
       "      <td>765.8</td>\n",
       "      <td>0.1</td>\n",
       "      <td>96</td>\n",
       "      <td>S</td>\n",
       "      <td>2</td>\n",
       "      <td>100%.</td>\n",
       "      <td>Дымка.</td>\n",
       "      <td>...</td>\n",
       "      <td>NaN</td>\n",
       "      <td>NaN</td>\n",
       "      <td>2.0</td>\n",
       "      <td>-2.4</td>\n",
       "      <td>NaN</td>\n",
       "      <td>NaN</td>\n",
       "      <td>NaN</td>\n",
       "      <td>NaN</td>\n",
       "      <td>NaN</td>\n",
       "      <td>NaN</td>\n",
       "    </tr>\n",
       "    <tr>\n",
       "      <th>2915</th>\n",
       "      <td>01.01.2021 06:00</td>\n",
       "      <td>-1.9</td>\n",
       "      <td>749.4</td>\n",
       "      <td>765.7</td>\n",
       "      <td>-0.4</td>\n",
       "      <td>96</td>\n",
       "      <td>S</td>\n",
       "      <td>3</td>\n",
       "      <td>100%.</td>\n",
       "      <td>Дымка.</td>\n",
       "      <td>...</td>\n",
       "      <td>NaN</td>\n",
       "      <td>NaN</td>\n",
       "      <td>2.0</td>\n",
       "      <td>-2.4</td>\n",
       "      <td>Осадков нет</td>\n",
       "      <td>12.0</td>\n",
       "      <td>NaN</td>\n",
       "      <td>NaN</td>\n",
       "      <td>Ровный слой слежавшегося или мокрого снега пок...</td>\n",
       "      <td>7</td>\n",
       "    </tr>\n",
       "    <tr>\n",
       "      <th>2916</th>\n",
       "      <td>01.01.2021 03:00</td>\n",
       "      <td>-2.4</td>\n",
       "      <td>749.8</td>\n",
       "      <td>766.1</td>\n",
       "      <td>-0.3</td>\n",
       "      <td>96</td>\n",
       "      <td>SSE</td>\n",
       "      <td>2</td>\n",
       "      <td>100%.</td>\n",
       "      <td>Дымка.</td>\n",
       "      <td>...</td>\n",
       "      <td>NaN</td>\n",
       "      <td>NaN</td>\n",
       "      <td>2.0</td>\n",
       "      <td>-2.9</td>\n",
       "      <td>NaN</td>\n",
       "      <td>NaN</td>\n",
       "      <td>NaN</td>\n",
       "      <td>NaN</td>\n",
       "      <td>NaN</td>\n",
       "      <td>NaN</td>\n",
       "    </tr>\n",
       "    <tr>\n",
       "      <th>2917</th>\n",
       "      <td>01.01.2021 00:00</td>\n",
       "      <td>-3.7</td>\n",
       "      <td>750.1</td>\n",
       "      <td>766.5</td>\n",
       "      <td>0.4</td>\n",
       "      <td>95</td>\n",
       "      <td>S</td>\n",
       "      <td>2</td>\n",
       "      <td>100%.</td>\n",
       "      <td>Дымка.</td>\n",
       "      <td>...</td>\n",
       "      <td>NaN</td>\n",
       "      <td>NaN</td>\n",
       "      <td>4.0</td>\n",
       "      <td>-4.4</td>\n",
       "      <td>NaN</td>\n",
       "      <td>NaN</td>\n",
       "      <td>NaN</td>\n",
       "      <td>NaN</td>\n",
       "      <td>NaN</td>\n",
       "      <td>NaN</td>\n",
       "    </tr>\n",
       "  </tbody>\n",
       "</table>\n",
       "<p>2918 rows × 27 columns</p>\n",
       "</div>"
      ],
      "text/plain": [
       "                  Date    T     Po      P   Pa   U   DD  Ff      N  \\\n",
       "0     31.12.2021 21:00 -5.7  738.1  754.5 -2.1  93    S   3  100%.   \n",
       "1     31.12.2021 18:00 -6.3  740.2  756.5 -1.2  93    S   2  100%.   \n",
       "2     31.12.2021 15:00 -6.8  741.4  757.9 -1.5  92    S   1  100%.   \n",
       "3     31.12.2021 12:00 -7.4  742.9  759.5 -1.2  91    S   1  100%.   \n",
       "4     31.12.2021 09:00 -8.3  744.1  760.7 -0.7  90    S   1  100%.   \n",
       "...                ...  ...    ...    ...  ...  ..  ...  ..    ...   \n",
       "2913  01.01.2021 12:00 -1.6  749.3  765.6 -0.2  96  SSE   3  100%.   \n",
       "2914  01.01.2021 09:00 -1.9  749.5  765.8  0.1  96    S   2  100%.   \n",
       "2915  01.01.2021 06:00 -1.9  749.4  765.7 -0.4  96    S   3  100%.   \n",
       "2916  01.01.2021 03:00 -2.4  749.8  766.1 -0.3  96  SSE   2  100%.   \n",
       "2917  01.01.2021 00:00 -3.7  750.1  766.5  0.4  95    S   2  100%.   \n",
       "\n",
       "                                                     WW  ...  \\\n",
       "0           Снег непрерывный слабый в срок наблюдения.   ...   \n",
       "1     Снег непрерывный слабый в срок наблюдения.  Ди...  ...   \n",
       "2     Морось (незамерзающая) или снежные зерна нелив...  ...   \n",
       "3     Морось замерзающая слабая.  Диаметр смешанного...  ...   \n",
       "4                                               Дымка.   ...   \n",
       "...                                                 ...  ...   \n",
       "2913                                            Дымка.   ...   \n",
       "2914                                            Дымка.   ...   \n",
       "2915                                            Дымка.   ...   \n",
       "2916                                            Дымка.   ...   \n",
       "2917                                            Дымка.   ...   \n",
       "\n",
       "                                                     Cm   Ch   VV   Td  \\\n",
       "0     Высокослоистые непросвечивающие или слоисто-до...  NaN  4.0 -6.7   \n",
       "1     Высокослоистые непросвечивающие или слоисто-до...  NaN  2.0 -7.3   \n",
       "2                                                   NaN  NaN  2.0 -7.9   \n",
       "3                                                   NaN  NaN  4.0 -8.6   \n",
       "4                                                   NaN  NaN  4.0 -9.6   \n",
       "...                                                 ...  ...  ...  ...   \n",
       "2913                                                NaN  NaN  4.0 -2.2   \n",
       "2914                                                NaN  NaN  2.0 -2.4   \n",
       "2915                                                NaN  NaN  2.0 -2.4   \n",
       "2916                                                NaN  NaN  2.0 -2.9   \n",
       "2917                                                NaN  NaN  4.0 -4.4   \n",
       "\n",
       "                RRR    tR    E  Tg  \\\n",
       "0               NaN   NaN  NaN NaN   \n",
       "1     Следы осадков  12.0  NaN NaN   \n",
       "2               NaN   NaN  NaN NaN   \n",
       "3               NaN   NaN  NaN NaN   \n",
       "4               NaN   NaN  NaN NaN   \n",
       "...             ...   ...  ...  ..   \n",
       "2913            NaN   NaN  NaN NaN   \n",
       "2914            NaN   NaN  NaN NaN   \n",
       "2915    Осадков нет  12.0  NaN NaN   \n",
       "2916            NaN   NaN  NaN NaN   \n",
       "2917            NaN   NaN  NaN NaN   \n",
       "\n",
       "                                                     E'  sss  \n",
       "0                                                   NaN  NaN  \n",
       "1                                                   NaN  NaN  \n",
       "2                                                   NaN  NaN  \n",
       "3                                                   NaN  NaN  \n",
       "4                                                   NaN  NaN  \n",
       "...                                                 ...  ...  \n",
       "2913                                                NaN  NaN  \n",
       "2914                                                NaN  NaN  \n",
       "2915  Ровный слой слежавшегося или мокрого снега пок...    7  \n",
       "2916                                                NaN  NaN  \n",
       "2917                                                NaN  NaN  \n",
       "\n",
       "[2918 rows x 27 columns]"
      ]
     },
     "execution_count": 49,
     "metadata": {},
     "output_type": "execute_result"
    }
   ],
   "source": [
    "df = pd.read_csv('WV_test.csv', delimiter=',')\n",
    "df"
   ]
  },
  {
   "cell_type": "code",
   "execution_count": 95,
   "id": "b31cb9f8-7a1a-455e-bf48-a1cefeb0a641",
   "metadata": {},
   "outputs": [
    {
     "data": {
      "image/png": "[encoded data removed]",
      "text/plain": [
       "<Figure size 432x288 with 1 Axes>"
      ]
     },
     "metadata": {
      "needs_background": "light"
     },
     "output_type": "display_data"
    }
   ],
   "source": [
    "# Температура к атмосферному давлению на уровне станции\n",
    "xs = df[\"T\"]\n",
    "ys = df[\"Po\"].apply( np.log )\n",
    "pd.DataFrame(np.array([xs,ys]).T).plot.scatter(0, 1, s=12, grid=True)\n",
    "plt.xlabel('Температура')\n",
    "plt.ylabel('Логарифмическая скорость')\n",
    "plt.show()"
   ]
  },
  {
   "cell_type": "code",
   "execution_count": 89,
   "id": "cdcf9fe6-acc7-40bf-bc2c-830355750a8b",
   "metadata": {},
   "outputs": [
    {
     "data": {
      "text/html": [
       "<div>\n",
       "<style scoped>\n",
       "    .dataframe tbody tr th:only-of-type {\n",
       "        vertical-align: middle;\n",
       "    }\n",
       "\n",
       "    .dataframe tbody tr th {\n",
       "        vertical-align: top;\n",
       "    }\n",
       "\n",
       "    .dataframe thead th {\n",
       "        text-align: right;\n",
       "    }\n",
       "</style>\n",
       "<table border=\"1\" class=\"dataframe\">\n",
       "  <thead>\n",
       "    <tr style=\"text-align: right;\">\n",
       "      <th></th>\n",
       "      <th>T</th>\n",
       "      <th>Po</th>\n",
       "      <th>P</th>\n",
       "      <th>Pa</th>\n",
       "      <th>U</th>\n",
       "      <th>Ff</th>\n",
       "      <th>Tn</th>\n",
       "      <th>Tx</th>\n",
       "      <th>VV</th>\n",
       "      <th>Td</th>\n",
       "      <th>tR</th>\n",
       "      <th>Tg</th>\n",
       "    </tr>\n",
       "  </thead>\n",
       "  <tbody>\n",
       "    <tr>\n",
       "      <th>T</th>\n",
       "      <td>1.000000</td>\n",
       "      <td>-0.004646</td>\n",
       "      <td>-0.107326</td>\n",
       "      <td>-0.095330</td>\n",
       "      <td>-0.476061</td>\n",
       "      <td>-0.079811</td>\n",
       "      <td>0.990831</td>\n",
       "      <td>0.991984</td>\n",
       "      <td>0.293817</td>\n",
       "      <td>0.924608</td>\n",
       "      <td>0.005542</td>\n",
       "      <td>0.955623</td>\n",
       "    </tr>\n",
       "    <tr>\n",
       "      <th>Po</th>\n",
       "      <td>-0.004646</td>\n",
       "      <td>1.000000</td>\n",
       "      <td>0.994669</td>\n",
       "      <td>0.063418</td>\n",
       "      <td>-0.198824</td>\n",
       "      <td>-0.321247</td>\n",
       "      <td>-0.073241</td>\n",
       "      <td>0.014280</td>\n",
       "      <td>0.218897</td>\n",
       "      <td>-0.085614</td>\n",
       "      <td>0.014219</td>\n",
       "      <td>-0.301697</td>\n",
       "    </tr>\n",
       "    <tr>\n",
       "      <th>P</th>\n",
       "      <td>-0.107326</td>\n",
       "      <td>0.994669</td>\n",
       "      <td>1.000000</td>\n",
       "      <td>0.072191</td>\n",
       "      <td>-0.151687</td>\n",
       "      <td>-0.311186</td>\n",
       "      <td>-0.165478</td>\n",
       "      <td>-0.094277</td>\n",
       "      <td>0.189074</td>\n",
       "      <td>-0.181442</td>\n",
       "      <td>0.013107</td>\n",
       "      <td>-0.349195</td>\n",
       "    </tr>\n",
       "    <tr>\n",
       "      <th>Pa</th>\n",
       "      <td>-0.095330</td>\n",
       "      <td>0.063418</td>\n",
       "      <td>0.072191</td>\n",
       "      <td>1.000000</td>\n",
       "      <td>0.061263</td>\n",
       "      <td>0.045384</td>\n",
       "      <td>-0.027679</td>\n",
       "      <td>-0.275633</td>\n",
       "      <td>0.143181</td>\n",
       "      <td>-0.067507</td>\n",
       "      <td>0.037035</td>\n",
       "      <td>0.017212</td>\n",
       "    </tr>\n",
       "    <tr>\n",
       "      <th>U</th>\n",
       "      <td>-0.476061</td>\n",
       "      <td>-0.198824</td>\n",
       "      <td>-0.151687</td>\n",
       "      <td>0.061263</td>\n",
       "      <td>1.000000</td>\n",
       "      <td>-0.115435</td>\n",
       "      <td>-0.025249</td>\n",
       "      <td>-0.617007</td>\n",
       "      <td>-0.619249</td>\n",
       "      <td>-0.114808</td>\n",
       "      <td>-0.013705</td>\n",
       "      <td>-0.033060</td>\n",
       "    </tr>\n",
       "    <tr>\n",
       "      <th>Ff</th>\n",
       "      <td>-0.079811</td>\n",
       "      <td>-0.321247</td>\n",
       "      <td>-0.311186</td>\n",
       "      <td>0.045384</td>\n",
       "      <td>-0.115435</td>\n",
       "      <td>1.000000</td>\n",
       "      <td>-0.139731</td>\n",
       "      <td>-0.097027</td>\n",
       "      <td>0.025595</td>\n",
       "      <td>-0.136658</td>\n",
       "      <td>-0.032955</td>\n",
       "      <td>-0.289232</td>\n",
       "    </tr>\n",
       "    <tr>\n",
       "      <th>Tn</th>\n",
       "      <td>0.990831</td>\n",
       "      <td>-0.073241</td>\n",
       "      <td>-0.165478</td>\n",
       "      <td>-0.027679</td>\n",
       "      <td>-0.025249</td>\n",
       "      <td>-0.139731</td>\n",
       "      <td>1.000000</td>\n",
       "      <td>NaN</td>\n",
       "      <td>0.019360</td>\n",
       "      <td>0.981423</td>\n",
       "      <td>NaN</td>\n",
       "      <td>0.972081</td>\n",
       "    </tr>\n",
       "    <tr>\n",
       "      <th>Tx</th>\n",
       "      <td>0.991984</td>\n",
       "      <td>0.014280</td>\n",
       "      <td>-0.094277</td>\n",
       "      <td>-0.275633</td>\n",
       "      <td>-0.617007</td>\n",
       "      <td>-0.097027</td>\n",
       "      <td>NaN</td>\n",
       "      <td>1.000000</td>\n",
       "      <td>0.418850</td>\n",
       "      <td>0.900271</td>\n",
       "      <td>-0.000380</td>\n",
       "      <td>NaN</td>\n",
       "    </tr>\n",
       "    <tr>\n",
       "      <th>VV</th>\n",
       "      <td>0.293817</td>\n",
       "      <td>0.218897</td>\n",
       "      <td>0.189074</td>\n",
       "      <td>0.143181</td>\n",
       "      <td>-0.619249</td>\n",
       "      <td>0.025595</td>\n",
       "      <td>0.019360</td>\n",
       "      <td>0.418850</td>\n",
       "      <td>1.000000</td>\n",
       "      <td>0.105971</td>\n",
       "      <td>0.028075</td>\n",
       "      <td>0.047808</td>\n",
       "    </tr>\n",
       "    <tr>\n",
       "      <th>Td</th>\n",
       "      <td>0.924608</td>\n",
       "      <td>-0.085614</td>\n",
       "      <td>-0.181442</td>\n",
       "      <td>-0.067507</td>\n",
       "      <td>-0.114808</td>\n",
       "      <td>-0.136658</td>\n",
       "      <td>0.981423</td>\n",
       "      <td>0.900271</td>\n",
       "      <td>0.105971</td>\n",
       "      <td>1.000000</td>\n",
       "      <td>0.004043</td>\n",
       "      <td>0.948650</td>\n",
       "    </tr>\n",
       "    <tr>\n",
       "      <th>tR</th>\n",
       "      <td>0.005542</td>\n",
       "      <td>0.014219</td>\n",
       "      <td>0.013107</td>\n",
       "      <td>0.037035</td>\n",
       "      <td>-0.013705</td>\n",
       "      <td>-0.032955</td>\n",
       "      <td>NaN</td>\n",
       "      <td>-0.000380</td>\n",
       "      <td>0.028075</td>\n",
       "      <td>0.004043</td>\n",
       "      <td>1.000000</td>\n",
       "      <td>NaN</td>\n",
       "    </tr>\n",
       "    <tr>\n",
       "      <th>Tg</th>\n",
       "      <td>0.955623</td>\n",
       "      <td>-0.301697</td>\n",
       "      <td>-0.349195</td>\n",
       "      <td>0.017212</td>\n",
       "      <td>-0.033060</td>\n",
       "      <td>-0.289232</td>\n",
       "      <td>0.972081</td>\n",
       "      <td>NaN</td>\n",
       "      <td>0.047808</td>\n",
       "      <td>0.948650</td>\n",
       "      <td>NaN</td>\n",
       "      <td>1.000000</td>\n",
       "    </tr>\n",
       "  </tbody>\n",
       "</table>\n",
       "</div>"
      ],
      "text/plain": [
       "           T        Po         P        Pa         U        Ff        Tn  \\\n",
       "T   1.000000 -0.004646 -0.107326 -0.095330 -0.476061 -0.079811  0.990831   \n",
       "Po -0.004646  1.000000  0.994669  0.063418 -0.198824 -0.321247 -0.073241   \n",
       "P  -0.107326  0.994669  1.000000  0.072191 -0.151687 -0.311186 -0.165478   \n",
       "Pa -0.095330  0.063418  0.072191  1.000000  0.061263  0.045384 -0.027679   \n",
       "U  -0.476061 -0.198824 -0.151687  0.061263  1.000000 -0.115435 -0.025249   \n",
       "Ff -0.079811 -0.321247 -0.311186  0.045384 -0.115435  1.000000 -0.139731   \n",
       "Tn  0.990831 -0.073241 -0.165478 -0.027679 -0.025249 -0.139731  1.000000   \n",
       "Tx  0.991984  0.014280 -0.094277 -0.275633 -0.617007 -0.097027       NaN   \n",
       "VV  0.293817  0.218897  0.189074  0.143181 -0.619249  0.025595  0.019360   \n",
       "Td  0.924608 -0.085614 -0.181442 -0.067507 -0.114808 -0.136658  0.981423   \n",
       "tR  0.005542  0.014219  0.013107  0.037035 -0.013705 -0.032955       NaN   \n",
       "Tg  0.955623 -0.301697 -0.349195  0.017212 -0.033060 -0.289232  0.972081   \n",
       "\n",
       "          Tx        VV        Td        tR        Tg  \n",
       "T   0.991984  0.293817  0.924608  0.005542  0.955623  \n",
       "Po  0.014280  0.218897 -0.085614  0.014219 -0.301697  \n",
       "P  -0.094277  0.189074 -0.181442  0.013107 -0.349195  \n",
       "Pa -0.275633  0.143181 -0.067507  0.037035  0.017212  \n",
       "U  -0.617007 -0.619249 -0.114808 -0.013705 -0.033060  \n",
       "Ff -0.097027  0.025595 -0.136658 -0.032955 -0.289232  \n",
       "Tn       NaN  0.019360  0.981423       NaN  0.972081  \n",
       "Tx  1.000000  0.418850  0.900271 -0.000380       NaN  \n",
       "VV  0.418850  1.000000  0.105971  0.028075  0.047808  \n",
       "Td  0.900271  0.105971  1.000000  0.004043  0.948650  \n",
       "tR -0.000380  0.028075  0.004043  1.000000       NaN  \n",
       "Tg       NaN  0.047808  0.948650       NaN  1.000000  "
      ]
     },
     "execution_count": 89,
     "metadata": {},
     "output_type": "execute_result"
    }
   ],
   "source": [
    "df.corr()"
   ]
  },
  {
   "cell_type": "markdown",
   "id": "725813ce-ecd5-4341-81a9-a582236cd8a5",
   "metadata": {},
   "source": [
    "# 7 Пункт\n",
    "TODO: Рассчитать доверительный интервал для генерального среднего."
   ]
  }
 ],
 "metadata": {
  "kernelspec": {
   "display_name": "Python 3 (ipykernel)",
   "language": "python",
   "name": "python3"
  },
  "language_info": {
   "codemirror_mode": {
    "name": "ipython",
    "version": 3
   },
   "file_extension": ".py",
   "mimetype": "text/x-python",
   "name": "python",
   "nbconvert_exporter": "python",
   "pygments_lexer": "ipython3",
   "version": "3.10.4"
  }
 },
 "nbformat": 4,
 "nbformat_minor": 5
}
