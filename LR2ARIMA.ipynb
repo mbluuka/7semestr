{
 "cells": [
  {
   "cell_type": "code",
   "execution_count": 173,
   "id": "59a02373-539b-406c-99da-e4899d2ed73f",
   "metadata": {},
   "outputs": [
    {
     "name": "stdout",
     "output_type": "stream",
     "text": [
      "\n",
      "[notice] A new release of pip available: 22.1.2 -> 22.3.1\n",
      "[notice] To update, run: python.exe -m pip install --upgrade pip\n"
     ]
    },
    {
     "name": "stderr",
     "output_type": "stream",
     "text": [
      "ERROR: Could not find a version that satisfies the requirement cv2 (from versions: none)\n",
      "ERROR: No matching distribution found for cv2\n"
     ]
    }
   ],
   "source": [
    "# !pip install statsmodels\n",
    "# !pip install cv2"
   ]
  },
  {
   "cell_type": "code",
   "execution_count": 1,
   "id": "c45da6a5-c1f1-425d-b509-5ab297df4709",
   "metadata": {},
   "outputs": [],
   "source": [
    "import numpy as np\n",
    "import pandas as pd\n",
    "import random\n",
    "from matplotlib import pyplot as plt\n",
    "import matplotlib.cm as cm\n",
    "from math import pi\n",
    "from windrose import WindroseAxes\n",
    "from math import pi, sqrt\n",
    "import random\n",
    "from scipy import stats\n",
    "from scipy.stats import pearsonr\n",
    "\n",
    "from collections import Counter\n",
    "\n",
    "pd.options.mode.chained_assignment = None "
   ]
  },
  {
   "cell_type": "code",
   "execution_count": 5,
   "id": "c2fcd3a5-7e71-4a7c-b001-2d5e86e844e4",
   "metadata": {},
   "outputs": [],
   "source": [
    "df = pd.read_csv('VW01012019-060922.csv', dayfirst=True)\n",
    "\n",
    "# for i in range(1,len(file_list)):\n",
    "#     data = pd.read_csv(file_list[i], delimiter=';')\n",
    "#     df_c = pd.DataFrame(data)\n",
    "#     df = pd.concat([df, df_c])  \n",
    "df.rename({'Местное время во Владимире' : 'Date'}, axis='columns', inplace = True)\n",
    "df['Date'] = pd.to_datetime(df['Date'])\n",
    "df['Date'] = df['Date'].dt.strftime('%d.%m.%y %H:%M')\n",
    "df['Date'] = pd.to_datetime(df['Date'])"
   ]
  },
  {
   "cell_type": "code",
   "execution_count": 6,
   "id": "924e327e-7558-4034-8fae-205bdfc1ea66",
   "metadata": {},
   "outputs": [
    {
     "data": {
      "text/plain": [
       "Date        0\n",
       "T           6\n",
       "Po          4\n",
       "P           9\n",
       "Pa         23\n",
       "U          10\n",
       "DD          2\n",
       "Ff          2\n",
       "ff10    10711\n",
       "ff3      9695\n",
       "N          30\n",
       "WW          0\n",
       "W1       6149\n",
       "W2       6149\n",
       "Tn       9459\n",
       "Tx       9843\n",
       "Cl        954\n",
       "Nh        953\n",
       "H         937\n",
       "Cm       2084\n",
       "Ch       5437\n",
       "VV         29\n",
       "Td          4\n",
       "RRR      8454\n",
       "tR       8454\n",
       "E       10486\n",
       "Tg      10488\n",
       "E'      10737\n",
       "sss     10737\n",
       "dtype: int64"
      ]
     },
     "execution_count": 6,
     "metadata": {},
     "output_type": "execute_result"
    }
   ],
   "source": [
    "df.isnull().sum()"
   ]
  },
  {
   "cell_type": "code",
   "execution_count": 7,
   "id": "2b129993-c7be-4bb3-84aa-54d047db7265",
   "metadata": {},
   "outputs": [
    {
     "data": {
      "text/plain": [
       "Date    0\n",
       "T       0\n",
       "Po      0\n",
       "P       0\n",
       "Pa      0\n",
       "U       0\n",
       "DD      0\n",
       "Ff      0\n",
       "N       0\n",
       "WW      0\n",
       "VV      0\n",
       "Td      0\n",
       "dtype: int64"
      ]
     },
     "execution_count": 7,
     "metadata": {},
     "output_type": "execute_result"
    }
   ],
   "source": [
    "df['T'].fillna(method='ffill', inplace=True)\n",
    "df['Po'].fillna(method='ffill', inplace=True)\n",
    "df['Po'].fillna(method='ffill', inplace=True)\n",
    "df['P'].fillna(method='ffill', inplace=True)\n",
    "df['Pa'].fillna(method='ffill', inplace=True)\n",
    "df['DD'].fillna(method='ffill', inplace=True)\n",
    "df['Ff'].fillna(method='ffill', inplace=True)\n",
    "df['U'].fillna(method='ffill', inplace=True)\n",
    "df['N'].fillna(method='ffill', inplace=True)\n",
    "df['VV'].fillna(method='ffill', inplace=True)\n",
    "df['Td'].fillna(method='ffill', inplace=True)\n",
    "df.dropna(axis=1, inplace = True)\n",
    "df.isnull().sum()"
   ]
  },
  {
   "cell_type": "code",
   "execution_count": 8,
   "id": "1f44928b-6240-4782-8136-73cdbb729ff8",
   "metadata": {},
   "outputs": [
    {
     "data": {
      "text/html": [
       "<div>\n",
       "<style scoped>\n",
       "    .dataframe tbody tr th:only-of-type {\n",
       "        vertical-align: middle;\n",
       "    }\n",
       "\n",
       "    .dataframe tbody tr th {\n",
       "        vertical-align: top;\n",
       "    }\n",
       "\n",
       "    .dataframe thead th {\n",
       "        text-align: right;\n",
       "    }\n",
       "</style>\n",
       "<table border=\"1\" class=\"dataframe\">\n",
       "  <thead>\n",
       "    <tr style=\"text-align: right;\">\n",
       "      <th></th>\n",
       "      <th>Date</th>\n",
       "      <th>T</th>\n",
       "      <th>Po</th>\n",
       "      <th>P</th>\n",
       "      <th>Pa</th>\n",
       "      <th>U</th>\n",
       "      <th>DD</th>\n",
       "      <th>Ff</th>\n",
       "      <th>N</th>\n",
       "      <th>WW</th>\n",
       "      <th>VV</th>\n",
       "      <th>Td</th>\n",
       "    </tr>\n",
       "  </thead>\n",
       "  <tbody>\n",
       "    <tr>\n",
       "      <th>11235</th>\n",
       "      <td>2019-01-01 00:00:00</td>\n",
       "      <td>-7.8</td>\n",
       "      <td>753.0</td>\n",
       "      <td>769.8</td>\n",
       "      <td>-0.2</td>\n",
       "      <td>92.0</td>\n",
       "      <td>Ветер, дующий с юго-юго-запада</td>\n",
       "      <td>3.0</td>\n",
       "      <td>100%.</td>\n",
       "      <td>Снег непрерывный слабый в срок наблюдения.</td>\n",
       "      <td>4.0</td>\n",
       "      <td>-8.9</td>\n",
       "    </tr>\n",
       "    <tr>\n",
       "      <th>11234</th>\n",
       "      <td>2019-01-01 03:00:00</td>\n",
       "      <td>-9.7</td>\n",
       "      <td>752.7</td>\n",
       "      <td>769.6</td>\n",
       "      <td>-0.3</td>\n",
       "      <td>91.0</td>\n",
       "      <td>Ветер, дующий с юго-юго-запада</td>\n",
       "      <td>3.0</td>\n",
       "      <td>100%.</td>\n",
       "      <td>Снег непрерывный слабый в срок наблюдения.</td>\n",
       "      <td>4.0</td>\n",
       "      <td>-10.9</td>\n",
       "    </tr>\n",
       "    <tr>\n",
       "      <th>11233</th>\n",
       "      <td>2019-01-01 06:00:00</td>\n",
       "      <td>-11.5</td>\n",
       "      <td>751.2</td>\n",
       "      <td>768.2</td>\n",
       "      <td>-1.5</td>\n",
       "      <td>90.0</td>\n",
       "      <td>Ветер, дующий с юго-юго-запада</td>\n",
       "      <td>1.0</td>\n",
       "      <td>40%.</td>\n",
       "      <td>Дымка.</td>\n",
       "      <td>4.0</td>\n",
       "      <td>-12.8</td>\n",
       "    </tr>\n",
       "    <tr>\n",
       "      <th>11232</th>\n",
       "      <td>2019-01-01 09:00:00</td>\n",
       "      <td>-10.0</td>\n",
       "      <td>750.1</td>\n",
       "      <td>766.9</td>\n",
       "      <td>-1.1</td>\n",
       "      <td>91.0</td>\n",
       "      <td>Ветер, дующий с юга</td>\n",
       "      <td>2.0</td>\n",
       "      <td>100%.</td>\n",
       "      <td>Снег непрерывный слабый в срок наблюдения.</td>\n",
       "      <td>4.0</td>\n",
       "      <td>-11.2</td>\n",
       "    </tr>\n",
       "    <tr>\n",
       "      <th>11231</th>\n",
       "      <td>2019-01-01 12:00:00</td>\n",
       "      <td>-7.9</td>\n",
       "      <td>747.7</td>\n",
       "      <td>764.3</td>\n",
       "      <td>-2.4</td>\n",
       "      <td>91.0</td>\n",
       "      <td>Ветер, дующий с юга</td>\n",
       "      <td>3.0</td>\n",
       "      <td>100%.</td>\n",
       "      <td>Снег непрерывный слабый в срок наблюдения.</td>\n",
       "      <td>4.0</td>\n",
       "      <td>-9.1</td>\n",
       "    </tr>\n",
       "    <tr>\n",
       "      <th>...</th>\n",
       "      <td>...</td>\n",
       "      <td>...</td>\n",
       "      <td>...</td>\n",
       "      <td>...</td>\n",
       "      <td>...</td>\n",
       "      <td>...</td>\n",
       "      <td>...</td>\n",
       "      <td>...</td>\n",
       "      <td>...</td>\n",
       "      <td>...</td>\n",
       "      <td>...</td>\n",
       "      <td>...</td>\n",
       "    </tr>\n",
       "    <tr>\n",
       "      <th>4</th>\n",
       "      <td>2022-11-05 21:00:00</td>\n",
       "      <td>-1.4</td>\n",
       "      <td>754.5</td>\n",
       "      <td>770.9</td>\n",
       "      <td>0.5</td>\n",
       "      <td>79.0</td>\n",
       "      <td>Ветер, дующий с северо-запада</td>\n",
       "      <td>3.0</td>\n",
       "      <td>100%.</td>\n",
       "      <td></td>\n",
       "      <td>10.0</td>\n",
       "      <td>-4.7</td>\n",
       "    </tr>\n",
       "    <tr>\n",
       "      <th>3</th>\n",
       "      <td>2022-11-06 00:00:00</td>\n",
       "      <td>-1.8</td>\n",
       "      <td>755.4</td>\n",
       "      <td>771.8</td>\n",
       "      <td>0.9</td>\n",
       "      <td>80.0</td>\n",
       "      <td>Ветер, дующий с запада</td>\n",
       "      <td>2.0</td>\n",
       "      <td>100%.</td>\n",
       "      <td></td>\n",
       "      <td>10.0</td>\n",
       "      <td>-4.8</td>\n",
       "    </tr>\n",
       "    <tr>\n",
       "      <th>2</th>\n",
       "      <td>2022-11-06 03:00:00</td>\n",
       "      <td>-1.9</td>\n",
       "      <td>755.5</td>\n",
       "      <td>772.0</td>\n",
       "      <td>0.1</td>\n",
       "      <td>81.0</td>\n",
       "      <td>Ветер, дующий с запада</td>\n",
       "      <td>1.0</td>\n",
       "      <td>100%.</td>\n",
       "      <td></td>\n",
       "      <td>10.0</td>\n",
       "      <td>-4.7</td>\n",
       "    </tr>\n",
       "    <tr>\n",
       "      <th>1</th>\n",
       "      <td>2022-11-06 06:00:00</td>\n",
       "      <td>-2.5</td>\n",
       "      <td>755.5</td>\n",
       "      <td>772.0</td>\n",
       "      <td>0.0</td>\n",
       "      <td>83.0</td>\n",
       "      <td>Ветер, дующий с западо-северо-запада</td>\n",
       "      <td>2.0</td>\n",
       "      <td>100%.</td>\n",
       "      <td></td>\n",
       "      <td>10.0</td>\n",
       "      <td>-5.0</td>\n",
       "    </tr>\n",
       "    <tr>\n",
       "      <th>0</th>\n",
       "      <td>2022-11-06 09:00:00</td>\n",
       "      <td>-2.5</td>\n",
       "      <td>755.6</td>\n",
       "      <td>772.1</td>\n",
       "      <td>0.1</td>\n",
       "      <td>84.0</td>\n",
       "      <td>Ветер, дующий с юго-запада</td>\n",
       "      <td>2.0</td>\n",
       "      <td>100%.</td>\n",
       "      <td></td>\n",
       "      <td>10.0</td>\n",
       "      <td>-4.8</td>\n",
       "    </tr>\n",
       "  </tbody>\n",
       "</table>\n",
       "<p>11236 rows × 12 columns</p>\n",
       "</div>"
      ],
      "text/plain": [
       "                     Date     T     Po      P   Pa     U  \\\n",
       "11235 2019-01-01 00:00:00  -7.8  753.0  769.8 -0.2  92.0   \n",
       "11234 2019-01-01 03:00:00  -9.7  752.7  769.6 -0.3  91.0   \n",
       "11233 2019-01-01 06:00:00 -11.5  751.2  768.2 -1.5  90.0   \n",
       "11232 2019-01-01 09:00:00 -10.0  750.1  766.9 -1.1  91.0   \n",
       "11231 2019-01-01 12:00:00  -7.9  747.7  764.3 -2.4  91.0   \n",
       "...                   ...   ...    ...    ...  ...   ...   \n",
       "4     2022-11-05 21:00:00  -1.4  754.5  770.9  0.5  79.0   \n",
       "3     2022-11-06 00:00:00  -1.8  755.4  771.8  0.9  80.0   \n",
       "2     2022-11-06 03:00:00  -1.9  755.5  772.0  0.1  81.0   \n",
       "1     2022-11-06 06:00:00  -2.5  755.5  772.0  0.0  83.0   \n",
       "0     2022-11-06 09:00:00  -2.5  755.6  772.1  0.1  84.0   \n",
       "\n",
       "                                         DD   Ff      N  \\\n",
       "11235        Ветер, дующий с юго-юго-запада  3.0  100%.   \n",
       "11234        Ветер, дующий с юго-юго-запада  3.0  100%.   \n",
       "11233        Ветер, дующий с юго-юго-запада  1.0   40%.   \n",
       "11232                   Ветер, дующий с юга  2.0  100%.   \n",
       "11231                   Ветер, дующий с юга  3.0  100%.   \n",
       "...                                     ...  ...    ...   \n",
       "4             Ветер, дующий с северо-запада  3.0  100%.   \n",
       "3                    Ветер, дующий с запада  2.0  100%.   \n",
       "2                    Ветер, дующий с запада  1.0  100%.   \n",
       "1      Ветер, дующий с западо-северо-запада  2.0  100%.   \n",
       "0                Ветер, дующий с юго-запада  2.0  100%.   \n",
       "\n",
       "                                                WW    VV    Td  \n",
       "11235  Снег непрерывный слабый в срок наблюдения.    4.0  -8.9  \n",
       "11234  Снег непрерывный слабый в срок наблюдения.    4.0 -10.9  \n",
       "11233                                      Дымка.    4.0 -12.8  \n",
       "11232  Снег непрерывный слабый в срок наблюдения.    4.0 -11.2  \n",
       "11231  Снег непрерывный слабый в срок наблюдения.    4.0  -9.1  \n",
       "...                                            ...   ...   ...  \n",
       "4                                                   10.0  -4.7  \n",
       "3                                                   10.0  -4.8  \n",
       "2                                                   10.0  -4.7  \n",
       "1                                                   10.0  -5.0  \n",
       "0                                                   10.0  -4.8  \n",
       "\n",
       "[11236 rows x 12 columns]"
      ]
     },
     "execution_count": 8,
     "metadata": {},
     "output_type": "execute_result"
    }
   ],
   "source": [
    "df = df.sort_values(by = \"Date\")\n",
    "df"
   ]
  },
  {
   "cell_type": "markdown",
   "id": "cb9b46f0-b881-4a71-b200-a0325a850ae3",
   "metadata": {},
   "source": [
    "# ARIMA"
   ]
  },
  {
   "cell_type": "code",
   "execution_count": 9,
   "id": "87dd42b9-7fc1-406d-ba22-4ec8b27dc3f5",
   "metadata": {},
   "outputs": [],
   "source": [
    "import statsmodels.api as sm\n",
    "from statsmodels.iolib.table import SimpleTable"
   ]
  },
  {
   "cell_type": "code",
   "execution_count": 10,
   "id": "5d43bdb1-3916-435c-9b38-718c937d5dda",
   "metadata": {},
   "outputs": [
    {
     "name": "stderr",
     "output_type": "stream",
     "text": [
      "C:\\Users\\1\\AppData\\Local\\Temp\\ipykernel_12504\\1150548952.py:4: FutureWarning: Series.dt.weekofyear and Series.dt.week have been deprecated. Please use Series.dt.isocalendar().week instead.\n",
      "  df['W'] = df['Date'].dt.week\n"
     ]
    }
   ],
   "source": [
    "df['D'] = df['Date'].dt.day\n",
    "df['M'] = df['Date'].dt.month\n",
    "df['Y'] = df['Date'].dt.year\n",
    "df['W'] = df['Date'].dt.week"
   ]
  },
  {
   "cell_type": "code",
   "execution_count": 18,
   "id": "6c91ca0c-4fbc-4408-9d84-b5d38196ce38",
   "metadata": {},
   "outputs": [
    {
     "data": {
      "text/plain": [
       "<AxesSubplot:xlabel='Date'>"
      ]
     },
     "execution_count": 18,
     "metadata": {},
     "output_type": "execute_result"
    },
    {
     "data": {
      "image/png": "[encoded data removed]",
      "text/plain": [
       "<Figure size 864x432 with 1 Axes>"
      ]
     },
     "metadata": {
      "needs_background": "light"
     },
     "output_type": "display_data"
    }
   ],
   "source": [
    "list_ = []\n",
    "daterange = []\n",
    "\n",
    "\n",
    "for w in (df['W'].unique()):\n",
    "    c = df.loc[(df['W'] == w) & (df['Y'] == 2021)]\n",
    "    list_.append(round(c['T'].mean(), 2))\n",
    "    daterange.append(w)\n",
    "\n",
    "\n",
    "\n",
    "df1 = pd.DataFrame({'Date':daterange, 'T':list_})\n",
    "df1 = df1.set_index('Date')\n",
    "df1.plot(figsize=(12,6))\n"
   ]
  },
  {
   "cell_type": "code",
   "execution_count": 17,
   "id": "fca4d396-adb9-4208-9da4-e6108b43b30c",
   "metadata": {},
   "outputs": [
    {
     "data": {
      "text/plain": [
       "<AxesSubplot:xlabel='Date'>"
      ]
     },
     "execution_count": 17,
     "metadata": {},
     "output_type": "execute_result"
    },
    {
     "data": {
      "image/png": "[encoded data removed]",
      "text/plain": [
       "<Figure size 864x432 with 1 Axes>"
      ]
     },
     "metadata": {
      "needs_background": "light"
     },
     "output_type": "display_data"
    }
   ],
   "source": [
    "list_1 = []\n",
    "daterange_1 = []\n",
    "\n",
    "\n",
    "for w in (df['W'].unique()):\n",
    "    c = df.loc[(df['W'] == w) & (df['Y'] == 2022)]\n",
    "    list_1.append(round(c['T'].mean(), 2))\n",
    "    daterange_1.append(w)\n",
    "\n",
    "\n",
    "\n",
    "df2 = pd.DataFrame({'Date':daterange_1, 'T':list_1})\n",
    "df2 = df2.set_index('Date')\n",
    "df2.plot(figsize=(12,6))"
   ]
  }
 ],
 "metadata": {
  "kernelspec": {
   "display_name": "Python 3 (ipykernel)",
   "language": "python",
   "name": "python3"
  },
  "language_info": {
   "codemirror_mode": {
    "name": "ipython",
    "version": 3
   },
   "file_extension": ".py",
   "mimetype": "text/x-python",
   "name": "python",
   "nbconvert_exporter": "python",
   "pygments_lexer": "ipython3",
   "version": "3.10.4"
  }
 },
 "nbformat": 4,
 "nbformat_minor": 5
}
